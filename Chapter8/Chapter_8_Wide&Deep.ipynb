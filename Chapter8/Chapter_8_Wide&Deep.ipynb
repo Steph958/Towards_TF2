{
  "nbformat": 4,
  "nbformat_minor": 0,
  "metadata": {
    "colab": {
      "name": "Chapter_8_Wide&Deep",
      "provenance": []
    },
    "kernelspec": {
      "name": "python3",
      "display_name": "Python 3"
    }
  },
  "cells": [
    {
      "cell_type": "code",
      "metadata": {
        "id": "NLtXiCSnqE9q",
        "colab_type": "code",
        "colab": {}
      },
      "source": [
        "!pip install kaggle\n",
        "from google.colab import files\n",
        "files.upload()"
      ],
      "execution_count": null,
      "outputs": []
    },
    {
      "cell_type": "code",
      "metadata": {
        "id": "htwbBDRiqTkL",
        "colab_type": "code",
        "colab": {}
      },
      "source": [
        "! mkdir ~/.kaggle\n",
        "! cp kaggle.json ~/.kaggle/\n",
        "! chmod 600 ~/.kaggle/kaggle.json"
      ],
      "execution_count": 2,
      "outputs": []
    },
    {
      "cell_type": "code",
      "metadata": {
        "id": "TDueRoX9qWU3",
        "colab_type": "code",
        "colab": {
          "base_uri": "https://localhost:8080/",
          "height": 102
        },
        "outputId": "006cc468-829b-4100-879a-379ea3dd9b3f"
      },
      "source": [
        "!kaggle datasets download -d uciml/adult-census-income\n",
        "! unzip adult-census-income.zip"
      ],
      "execution_count": 3,
      "outputs": [
        {
          "output_type": "stream",
          "text": [
            "Downloading adult-census-income.zip to /content\n",
            "\r  0% 0.00/450k [00:00<?, ?B/s]\n",
            "\r100% 450k/450k [00:00<00:00, 66.6MB/s]\n",
            "Archive:  adult-census-income.zip\n",
            "  inflating: adult.csv               \n"
          ],
          "name": "stdout"
        }
      ]
    },
    {
      "cell_type": "code",
      "metadata": {
        "id": "YKd9z7pVqcHP",
        "colab_type": "code",
        "colab": {}
      },
      "source": [
        "import numpy as np\n",
        "import pandas as pd\n",
        "from sklearn import preprocessing\n",
        "try:\n",
        "  # %tensorflow_version only exists in Colab.\n",
        "  %tensorflow_version 2.x\n",
        "except Exception:\n",
        "  pass\n",
        "import tensorflow as tf\n",
        "import numpy as np\n",
        "import matplotlib.pyplot as plt\n",
        "from sklearn.model_selection import train_test_split, cross_val_score, KFold\n",
        "import argparse\n",
        "import sys\n",
        "import tempfile\n",
        "\n",
        "import pandas as pd\n",
        "from six.moves import urllib"
      ],
      "execution_count": 4,
      "outputs": []
    },
    {
      "cell_type": "code",
      "metadata": {
        "id": "Yczv4X2Nrhly",
        "colab_type": "code",
        "colab": {
          "base_uri": "https://localhost:8080/",
          "height": 292
        },
        "outputId": "468956c5-89d2-447f-9827-12cc09e05a8e"
      },
      "source": [
        "adult = pd.read_csv('adult.csv')\n",
        "adult.head()"
      ],
      "execution_count": 5,
      "outputs": [
        {
          "output_type": "execute_result",
          "data": {
            "text/html": [
              "<div>\n",
              "<style scoped>\n",
              "    .dataframe tbody tr th:only-of-type {\n",
              "        vertical-align: middle;\n",
              "    }\n",
              "\n",
              "    .dataframe tbody tr th {\n",
              "        vertical-align: top;\n",
              "    }\n",
              "\n",
              "    .dataframe thead th {\n",
              "        text-align: right;\n",
              "    }\n",
              "</style>\n",
              "<table border=\"1\" class=\"dataframe\">\n",
              "  <thead>\n",
              "    <tr style=\"text-align: right;\">\n",
              "      <th></th>\n",
              "      <th>age</th>\n",
              "      <th>workclass</th>\n",
              "      <th>fnlwgt</th>\n",
              "      <th>education</th>\n",
              "      <th>education.num</th>\n",
              "      <th>marital.status</th>\n",
              "      <th>occupation</th>\n",
              "      <th>relationship</th>\n",
              "      <th>race</th>\n",
              "      <th>sex</th>\n",
              "      <th>capital.gain</th>\n",
              "      <th>capital.loss</th>\n",
              "      <th>hours.per.week</th>\n",
              "      <th>native.country</th>\n",
              "      <th>income</th>\n",
              "    </tr>\n",
              "  </thead>\n",
              "  <tbody>\n",
              "    <tr>\n",
              "      <th>0</th>\n",
              "      <td>90</td>\n",
              "      <td>?</td>\n",
              "      <td>77053</td>\n",
              "      <td>HS-grad</td>\n",
              "      <td>9</td>\n",
              "      <td>Widowed</td>\n",
              "      <td>?</td>\n",
              "      <td>Not-in-family</td>\n",
              "      <td>White</td>\n",
              "      <td>Female</td>\n",
              "      <td>0</td>\n",
              "      <td>4356</td>\n",
              "      <td>40</td>\n",
              "      <td>United-States</td>\n",
              "      <td>&lt;=50K</td>\n",
              "    </tr>\n",
              "    <tr>\n",
              "      <th>1</th>\n",
              "      <td>82</td>\n",
              "      <td>Private</td>\n",
              "      <td>132870</td>\n",
              "      <td>HS-grad</td>\n",
              "      <td>9</td>\n",
              "      <td>Widowed</td>\n",
              "      <td>Exec-managerial</td>\n",
              "      <td>Not-in-family</td>\n",
              "      <td>White</td>\n",
              "      <td>Female</td>\n",
              "      <td>0</td>\n",
              "      <td>4356</td>\n",
              "      <td>18</td>\n",
              "      <td>United-States</td>\n",
              "      <td>&lt;=50K</td>\n",
              "    </tr>\n",
              "    <tr>\n",
              "      <th>2</th>\n",
              "      <td>66</td>\n",
              "      <td>?</td>\n",
              "      <td>186061</td>\n",
              "      <td>Some-college</td>\n",
              "      <td>10</td>\n",
              "      <td>Widowed</td>\n",
              "      <td>?</td>\n",
              "      <td>Unmarried</td>\n",
              "      <td>Black</td>\n",
              "      <td>Female</td>\n",
              "      <td>0</td>\n",
              "      <td>4356</td>\n",
              "      <td>40</td>\n",
              "      <td>United-States</td>\n",
              "      <td>&lt;=50K</td>\n",
              "    </tr>\n",
              "    <tr>\n",
              "      <th>3</th>\n",
              "      <td>54</td>\n",
              "      <td>Private</td>\n",
              "      <td>140359</td>\n",
              "      <td>7th-8th</td>\n",
              "      <td>4</td>\n",
              "      <td>Divorced</td>\n",
              "      <td>Machine-op-inspct</td>\n",
              "      <td>Unmarried</td>\n",
              "      <td>White</td>\n",
              "      <td>Female</td>\n",
              "      <td>0</td>\n",
              "      <td>3900</td>\n",
              "      <td>40</td>\n",
              "      <td>United-States</td>\n",
              "      <td>&lt;=50K</td>\n",
              "    </tr>\n",
              "    <tr>\n",
              "      <th>4</th>\n",
              "      <td>41</td>\n",
              "      <td>Private</td>\n",
              "      <td>264663</td>\n",
              "      <td>Some-college</td>\n",
              "      <td>10</td>\n",
              "      <td>Separated</td>\n",
              "      <td>Prof-specialty</td>\n",
              "      <td>Own-child</td>\n",
              "      <td>White</td>\n",
              "      <td>Female</td>\n",
              "      <td>0</td>\n",
              "      <td>3900</td>\n",
              "      <td>40</td>\n",
              "      <td>United-States</td>\n",
              "      <td>&lt;=50K</td>\n",
              "    </tr>\n",
              "  </tbody>\n",
              "</table>\n",
              "</div>"
            ],
            "text/plain": [
              "   age workclass  fnlwgt  ... hours.per.week  native.country income\n",
              "0   90         ?   77053  ...             40   United-States  <=50K\n",
              "1   82   Private  132870  ...             18   United-States  <=50K\n",
              "2   66         ?  186061  ...             40   United-States  <=50K\n",
              "3   54   Private  140359  ...             40   United-States  <=50K\n",
              "4   41   Private  264663  ...             40   United-States  <=50K\n",
              "\n",
              "[5 rows x 15 columns]"
            ]
          },
          "metadata": {
            "tags": []
          },
          "execution_count": 5
        }
      ]
    },
    {
      "cell_type": "code",
      "metadata": {
        "id": "_T4fgBvernn1",
        "colab_type": "code",
        "colab": {}
      },
      "source": [
        "CSV_COLUMNS = [\n",
        "    \"age\", \"workclass\", \"fnlwgt\", \"education\", \"education_num\",\n",
        "    \"marital_status\", \"occupation\", \"relationship\", \"race\", \"gender\",\n",
        "    \"capital_gain\", \"capital_loss\", \"hours_per_week\", \"native_country\",\n",
        "    \"income_bracket\"\n",
        "]"
      ],
      "execution_count": 6,
      "outputs": []
    },
    {
      "cell_type": "code",
      "metadata": {
        "id": "ElUBzXlMsATZ",
        "colab_type": "code",
        "colab": {}
      },
      "source": [
        "gender = tf.feature_column.categorical_column_with_vocabulary_list(\n",
        "    \"gender\", [\"Female\", \"Male\"])\n",
        "education = tf.feature_column.categorical_column_with_vocabulary_list(\n",
        "    \"education\", [\n",
        "        \"Bachelors\", \"HS-grad\", \"11th\", \"Masters\", \"9th\",\n",
        "        \"Some-college\", \"Assoc-acdm\", \"Assoc-voc\", \"7th-8th\",\n",
        "        \"Doctorate\", \"Prof-school\", \"5th-6th\", \"10th\", \"1st-4th\",\n",
        "        \"Preschool\", \"12th\"\n",
        "    ])\n",
        "marital_status = tf.feature_column.categorical_column_with_vocabulary_list(\n",
        "    \"marital_status\", [\n",
        "        \"Married-civ-spouse\", \"Divorced\", \"Married-spouse-absent\",\n",
        "        \"Never-married\", \"Separated\", \"Married-AF-spouse\", \"Widowed\"\n",
        "    ])\n",
        "relationship = tf.feature_column.categorical_column_with_vocabulary_list(\n",
        "    \"relationship\", [\n",
        "        \"Husband\", \"Not-in-family\", \"Wife\", \"Own-child\", \"Unmarried\",\n",
        "        \"Other-relative\"\n",
        "    ])\n",
        "workclass = tf.feature_column.categorical_column_with_vocabulary_list(\n",
        "    \"workclass\", [\n",
        "        \"Self-emp-not-inc\", \"Private\", \"State-gov\", \"Federal-gov\",\n",
        "        \"Local-gov\", \"?\", \"Self-emp-inc\", \"Without-pay\", \"Never-worked\"\n",
        "    ])\n",
        "\n",
        "race = tf.feature_column.categorical_column_with_vocabulary_list(\"race\",\n",
        "                                      [\"Amer-Indian-Eskimo\",\n",
        "                                            \"Asian-Pac-Islander\",\n",
        "                                            \"Black\", \"Other\",\n",
        "                                            \"White\"])\n"
      ],
      "execution_count": 7,
      "outputs": []
    },
    {
      "cell_type": "code",
      "metadata": {
        "id": "50cda3w3z5QN",
        "colab_type": "code",
        "colab": {}
      },
      "source": [
        "# To show an example of hashing:\n",
        "occupation = tf.feature_column.categorical_column_with_hash_bucket(\n",
        "    \"occupation\", hash_bucket_size=1000)\n",
        "native_country = tf.feature_column.categorical_column_with_hash_bucket(\n",
        "    \"native_country\", hash_bucket_size=1000)\n"
      ],
      "execution_count": 8,
      "outputs": []
    },
    {
      "cell_type": "code",
      "metadata": {
        "id": "iI1IxsP7zxeN",
        "colab_type": "code",
        "colab": {}
      },
      "source": [
        "\n",
        "# Continuous base columns.\n",
        "age = tf.feature_column.numeric_column(\"age\")\n",
        "education_num = tf.feature_column.numeric_column(\"education_num\")\n",
        "capital_gain = tf.feature_column.numeric_column(\"capital_gain\")\n",
        "capital_loss = tf.feature_column.numeric_column(\"capital_loss\")\n",
        "hours_per_week = tf.feature_column.numeric_column(\"hours_per_week\")\n",
        "\n",
        "# Transformations.\n",
        "age_buckets = tf.feature_column.bucketized_column(\n",
        "    age, boundaries=[18, 25, 30, 35, 40, 45, 50, 55, 60, 65])\n",
        "\n",
        "# Wide columns and deep columns.\n",
        "base_columns = [\n",
        "    gender, education, marital_status, relationship, workclass, occupation,\n",
        "    native_country, age_buckets,\n",
        "]\n"
      ],
      "execution_count": 9,
      "outputs": []
    },
    {
      "cell_type": "code",
      "metadata": {
        "id": "upO85a8UUZur",
        "colab_type": "code",
        "colab": {}
      },
      "source": [
        "\n",
        "crossed_columns = [\n",
        "    tf.feature_column.crossed_column(\n",
        "        [\"education\", \"occupation\"], hash_bucket_size=1000),\n",
        "    tf.feature_column.crossed_column(\n",
        "        [age_buckets, \"education\", \"occupation\"], hash_bucket_size=1000),\n",
        "    tf.feature_column.crossed_column(\n",
        "        [\"native_country\", \"occupation\"], hash_bucket_size=1000)\n",
        "]\n",
        "\n",
        "deep_columns = [\n",
        "    tf.feature_column.embedding_column(workclass, dimension=8),\n",
        "    tf.feature_column.embedding_column(education, dimension=8),\n",
        "    tf.feature_column.embedding_column(gender, dimension=8),\n",
        "    tf.feature_column.embedding_column(marital_status,dimension=8),\n",
        "    tf.feature_column.embedding_column(race,dimension=8),\n",
        "    # To show an example of embedding\n",
        "    tf.feature_column.embedding_column(native_country, dimension=8),\n",
        "    tf.feature_column.embedding_column(occupation, dimension=8),\n",
        "    age,\n",
        "    education_num,\n",
        "    capital_gain,\n",
        "    capital_loss,\n",
        "    hours_per_week,\n",
        "]\n",
        "\n"
      ],
      "execution_count": 10,
      "outputs": []
    },
    {
      "cell_type": "code",
      "metadata": {
        "id": "Uo0AwjQdUcG3",
        "colab_type": "code",
        "colab": {}
      },
      "source": [
        "def maybe_download(train_data, test_data):\n",
        "  \"\"\"Maybe downloads training data and returns train and test file names.\"\"\"\n",
        "  if train_data:\n",
        "    train_file_name = train_data\n",
        "  else:\n",
        "    train_file = tempfile.NamedTemporaryFile(delete=False)\n",
        "    urllib.request.urlretrieve(\n",
        "        \"https://archive.ics.uci.edu/ml/machine-learning-databases/adult/adult.data\",\n",
        "        train_file.name)  # pylint: disable=line-too-long\n",
        "    train_file_name = train_file.name\n",
        "    train_file.close()\n",
        "    print(\"Training data is downloaded to %s\" % train_file_name)\n",
        "\n",
        "  if test_data:\n",
        "    test_file_name = test_data\n",
        "  else:\n",
        "    test_file = tempfile.NamedTemporaryFile(delete=False)\n",
        "    urllib.request.urlretrieve(\n",
        "        \"https://archive.ics.uci.edu/ml/machine-learning-databases/adult/adult.test\",\n",
        "        test_file.name)  # pylint: disable=line-too-long\n",
        "    test_file_name = test_file.name\n",
        "    test_file.close()\n",
        "    print(\"Test data is downloaded to %s\"% test_file_name)\n",
        "\n",
        "  return train_file_name, test_file_name"
      ],
      "execution_count": 11,
      "outputs": []
    },
    {
      "cell_type": "code",
      "metadata": {
        "id": "dddyA6N6UhL1",
        "colab_type": "code",
        "colab": {}
      },
      "source": [
        "\n",
        "def build_estimator(model_dir, model_type):\n",
        "  \"\"\"Build an estimator.\"\"\"\n",
        "  if model_type == \"wide\":\n",
        "    m = tf.estimator.LinearClassifier(\n",
        "        model_dir=model_dir, feature_columns=base_columns + crossed_columns)\n",
        "  elif model_type == \"deep\":\n",
        "    m = tf.estimator.DNNClassifier(\n",
        "        model_dir=model_dir,\n",
        "        feature_columns=deep_columns,\n",
        "        hidden_units=[100, 50])\n",
        "  else:\n",
        "    m = tf.estimator.DNNLinearCombinedClassifier(\n",
        "        model_dir=model_dir,\n",
        "        linear_feature_columns=crossed_columns,\n",
        "        dnn_feature_columns=deep_columns,\n",
        "        dnn_hidden_units=[100, 70, 50, 25])\n",
        "  return m"
      ],
      "execution_count": 12,
      "outputs": []
    },
    {
      "cell_type": "code",
      "metadata": {
        "id": "U3RnXhz6UjHk",
        "colab_type": "code",
        "colab": {}
      },
      "source": [
        "def input_fn(data_file, num_epochs, shuffle):\n",
        "  \"\"\"Input builder function.\"\"\"\n",
        "  df_data = pd.read_csv(\n",
        "      data_file,\n",
        "      names=CSV_COLUMNS,\n",
        "      skipinitialspace=True,\n",
        "      engine=\"python\",\n",
        "      skiprows=1)\n",
        "  # remove NaN elements\n",
        "  df_data = df_data.dropna(how=\"any\", axis=0)\n",
        "  labels = df_data[\"income_bracket\"].apply(lambda x: \">50K\" in x).astype(int)\n",
        "  return tf.compat.v1.estimator.inputs.pandas_input_fn(\n",
        "      x=df_data,\n",
        "      y=labels,\n",
        "      batch_size=100,\n",
        "      num_epochs=num_epochs,\n",
        "      shuffle=shuffle,\n",
        "      num_threads=5)\n"
      ],
      "execution_count": 13,
      "outputs": []
    },
    {
      "cell_type": "code",
      "metadata": {
        "id": "rH7jr04cUxhk",
        "colab_type": "code",
        "colab": {}
      },
      "source": [
        "def train_and_eval(model_dir, model_type, train_steps, train_data, test_data):\n",
        "  \"\"\"Train and evaluate the model.\"\"\"\n",
        "  train_file_name, test_file_name = maybe_download(train_data, test_data)\n",
        "  model_dir = tempfile.mkdtemp() if not model_dir else model_dir\n",
        "\n",
        "  m = build_estimator(model_dir, model_type)\n",
        "  # set num_epochs to None to get infinite stream of data.\n",
        "  m.train(\n",
        "      input_fn=input_fn(train_file_name, num_epochs=None, shuffle=True),\n",
        "      steps=train_steps)\n",
        "  # set steps to None to run evaluation until all data consumed.\n",
        "  results = m.evaluate(\n",
        "      input_fn=input_fn(test_file_name, num_epochs=1, shuffle=False),\n",
        "      steps=None)\n",
        "  print(\"model directory = %s\" % model_dir)\n",
        "  for key in sorted(results):\n",
        "    print(\"%s: %s\" % (key, results[key]))\n"
      ],
      "execution_count": 14,
      "outputs": []
    },
    {
      "cell_type": "code",
      "metadata": {
        "id": "lePWD03FU1S7",
        "colab_type": "code",
        "colab": {
          "base_uri": "https://localhost:8080/",
          "height": 71
        },
        "outputId": "a45397cf-a027-4beb-bed8-ffbb3452bb4b"
      },
      "source": [
        " model = input_fn('adult.csv',1000,shuffle=True)"
      ],
      "execution_count": 15,
      "outputs": [
        {
          "output_type": "stream",
          "text": [
            "WARNING:tensorflow:From /usr/local/lib/python3.6/dist-packages/tensorflow/python/util/lazy_loader.py:63: The name tf.estimator.inputs is deprecated. Please use tf.compat.v1.estimator.inputs instead.\n",
            "\n"
          ],
          "name": "stdout"
        }
      ]
    },
    {
      "cell_type": "code",
      "metadata": {
        "id": "KKI4IZlxU4yn",
        "colab_type": "code",
        "colab": {
          "base_uri": "https://localhost:8080/",
          "height": 173
        },
        "outputId": "6d8c2d61-503a-403f-951a-24e36e9c7aec"
      },
      "source": [
        "m = build_estimator(model, model_type='wide_n_deep')"
      ],
      "execution_count": 16,
      "outputs": [
        {
          "output_type": "stream",
          "text": [
            "INFO:tensorflow:Using default config.\n",
            "INFO:tensorflow:Using config: {'_model_dir': <function pandas_input_fn.<locals>.input_fn at 0x7fb25c8d8e18>, '_tf_random_seed': None, '_save_summary_steps': 100, '_save_checkpoints_steps': None, '_save_checkpoints_secs': 600, '_session_config': allow_soft_placement: true\n",
            "graph_options {\n",
            "  rewrite_options {\n",
            "    meta_optimizer_iterations: ONE\n",
            "  }\n",
            "}\n",
            ", '_keep_checkpoint_max': 5, '_keep_checkpoint_every_n_hours': 10000, '_log_step_count_steps': 100, '_train_distribute': None, '_device_fn': None, '_protocol': None, '_eval_distribute': None, '_experimental_distribute': None, '_experimental_max_worker_delay_secs': None, '_session_creation_timeout_secs': 7200, '_service': None, '_cluster_spec': ClusterSpec({}), '_task_type': 'worker', '_task_id': 0, '_global_id_in_cluster': 0, '_master': '', '_evaluation_master': '', '_is_chief': True, '_num_ps_replicas': 0, '_num_worker_replicas': 1}\n"
          ],
          "name": "stdout"
        }
      ]
    },
    {
      "cell_type": "code",
      "metadata": {
        "id": "ZY16Buq5U9jB",
        "colab_type": "code",
        "colab": {
          "base_uri": "https://localhost:8080/",
          "height": 1000
        },
        "outputId": "c350f226-3b27-4f6c-c004-5a9156c97097"
      },
      "source": [
        "train_and_eval('/content/model','wide_n_deep',1000,False,False)"
      ],
      "execution_count": 17,
      "outputs": [
        {
          "output_type": "stream",
          "text": [
            "Training data is downloaded to /tmp/tmp972e54_c\n",
            "Test data is downloaded to /tmp/tmp_eofv2ry\n",
            "INFO:tensorflow:Using default config.\n",
            "INFO:tensorflow:Using config: {'_model_dir': '/content/model', '_tf_random_seed': None, '_save_summary_steps': 100, '_save_checkpoints_steps': None, '_save_checkpoints_secs': 600, '_session_config': allow_soft_placement: true\n",
            "graph_options {\n",
            "  rewrite_options {\n",
            "    meta_optimizer_iterations: ONE\n",
            "  }\n",
            "}\n",
            ", '_keep_checkpoint_max': 5, '_keep_checkpoint_every_n_hours': 10000, '_log_step_count_steps': 100, '_train_distribute': None, '_device_fn': None, '_protocol': None, '_eval_distribute': None, '_experimental_distribute': None, '_experimental_max_worker_delay_secs': None, '_session_creation_timeout_secs': 7200, '_service': None, '_cluster_spec': ClusterSpec({}), '_task_type': 'worker', '_task_id': 0, '_global_id_in_cluster': 0, '_master': '', '_evaluation_master': '', '_is_chief': True, '_num_ps_replicas': 0, '_num_worker_replicas': 1}\n",
            "WARNING:tensorflow:From /usr/local/lib/python3.6/dist-packages/tensorflow/python/ops/resource_variable_ops.py:1666: calling BaseResourceVariable.__init__ (from tensorflow.python.ops.resource_variable_ops) with constraint is deprecated and will be removed in a future version.\n",
            "Instructions for updating:\n",
            "If using Keras pass *_constraint arguments to layers.\n",
            "WARNING:tensorflow:From /usr/local/lib/python3.6/dist-packages/tensorflow/python/training/training_util.py:236: Variable.initialized_value (from tensorflow.python.ops.variables) is deprecated and will be removed in a future version.\n",
            "Instructions for updating:\n",
            "Use Variable.read_value. Variables in 2.X are initialized automatically both in eager and graph (inside tf.defun) contexts.\n",
            "WARNING:tensorflow:From /usr/local/lib/python3.6/dist-packages/tensorflow_estimator/python/estimator/inputs/queues/feeding_queue_runner.py:65: QueueRunner.__init__ (from tensorflow.python.training.queue_runner_impl) is deprecated and will be removed in a future version.\n",
            "Instructions for updating:\n",
            "To construct input pipelines, use the `tf.data` module.\n",
            "WARNING:tensorflow:From /usr/local/lib/python3.6/dist-packages/tensorflow_estimator/python/estimator/inputs/queues/feeding_functions.py:491: add_queue_runner (from tensorflow.python.training.queue_runner_impl) is deprecated and will be removed in a future version.\n",
            "Instructions for updating:\n",
            "To construct input pipelines, use the `tf.data` module.\n",
            "INFO:tensorflow:Calling model_fn.\n",
            "WARNING:tensorflow:From /usr/local/lib/python3.6/dist-packages/tensorflow/python/feature_column/feature_column_v2.py:540: Layer.add_variable (from tensorflow.python.keras.engine.base_layer_v1) is deprecated and will be removed in a future version.\n",
            "Instructions for updating:\n",
            "Please use `layer.add_weight` method instead.\n",
            "WARNING:tensorflow:From /usr/local/lib/python3.6/dist-packages/tensorflow/python/keras/optimizer_v2/adagrad.py:106: calling Constant.__init__ (from tensorflow.python.ops.init_ops) with dtype is deprecated and will be removed in a future version.\n",
            "Instructions for updating:\n",
            "Call initializer instance with the dtype argument instead of passing it to the constructor\n",
            "INFO:tensorflow:Done calling model_fn.\n",
            "INFO:tensorflow:Create CheckpointSaverHook.\n",
            "INFO:tensorflow:Graph was finalized.\n",
            "INFO:tensorflow:Running local_init_op.\n",
            "INFO:tensorflow:Done running local_init_op.\n",
            "WARNING:tensorflow:From /usr/local/lib/python3.6/dist-packages/tensorflow/python/training/monitored_session.py:906: start_queue_runners (from tensorflow.python.training.queue_runner_impl) is deprecated and will be removed in a future version.\n",
            "Instructions for updating:\n",
            "To construct input pipelines, use the `tf.data` module.\n",
            "INFO:tensorflow:Calling checkpoint listeners before saving checkpoint 0...\n",
            "INFO:tensorflow:Saving checkpoints for 0 into /content/model/model.ckpt.\n",
            "INFO:tensorflow:Calling checkpoint listeners after saving checkpoint 0...\n",
            "INFO:tensorflow:loss = 50.758568, step = 0\n",
            "INFO:tensorflow:global_step/sec: 120.878\n",
            "INFO:tensorflow:loss = 2.1895714, step = 100 (0.828 sec)\n",
            "INFO:tensorflow:global_step/sec: 184.672\n",
            "INFO:tensorflow:loss = 0.5067469, step = 200 (0.541 sec)\n",
            "INFO:tensorflow:global_step/sec: 184.466\n",
            "INFO:tensorflow:loss = 0.5590536, step = 300 (0.542 sec)\n",
            "INFO:tensorflow:global_step/sec: 189.196\n",
            "INFO:tensorflow:loss = 0.48109263, step = 400 (0.529 sec)\n",
            "INFO:tensorflow:global_step/sec: 182.563\n",
            "INFO:tensorflow:loss = 0.5563476, step = 500 (0.549 sec)\n",
            "INFO:tensorflow:global_step/sec: 180.596\n",
            "INFO:tensorflow:loss = 0.45830742, step = 600 (0.554 sec)\n",
            "INFO:tensorflow:global_step/sec: 182.744\n",
            "INFO:tensorflow:loss = 0.6079534, step = 700 (0.546 sec)\n",
            "INFO:tensorflow:global_step/sec: 188.057\n",
            "INFO:tensorflow:loss = 0.55352515, step = 800 (0.533 sec)\n",
            "INFO:tensorflow:global_step/sec: 174.124\n",
            "INFO:tensorflow:loss = 0.4513555, step = 900 (0.573 sec)\n",
            "INFO:tensorflow:Calling checkpoint listeners before saving checkpoint 1000...\n",
            "INFO:tensorflow:Saving checkpoints for 1000 into /content/model/model.ckpt.\n",
            "INFO:tensorflow:Calling checkpoint listeners after saving checkpoint 1000...\n",
            "INFO:tensorflow:Loss for final step: 0.53675914.\n",
            "WARNING:tensorflow:enqueue_data was called with num_epochs and num_threads > 1. num_epochs is applied per thread, so this will produce more epochs than you probably intend. If you want to limit epochs, use one thread.\n",
            "WARNING:tensorflow:enqueue_data was called with shuffle=False and num_threads > 1. This will create multiple threads, all reading the array/dataframe in order. If you want examples read in order, use one thread; if you want multiple threads, enable shuffling.\n",
            "INFO:tensorflow:Calling model_fn.\n",
            "INFO:tensorflow:Done calling model_fn.\n",
            "INFO:tensorflow:Starting evaluation at 2020-06-30T16:02:05Z\n",
            "INFO:tensorflow:Graph was finalized.\n",
            "INFO:tensorflow:Restoring parameters from /content/model/model.ckpt-1000\n",
            "INFO:tensorflow:Running local_init_op.\n",
            "INFO:tensorflow:Done running local_init_op.\n",
            "INFO:tensorflow:Inference Time : 5.32122s\n",
            "INFO:tensorflow:Finished evaluation at 2020-06-30-16:02:10\n",
            "INFO:tensorflow:Saving dict for global step 1000: accuracy = 0.80216205, accuracy_baseline = 0.76377374, auc = 0.7223603, auc_precision_recall = 0.5524089, average_loss = 0.48308435, global_step = 1000, label/mean = 0.23622628, loss = 0.4836687, precision = 0.7093101, prediction/mean = 0.288081, recall = 0.27535102\n",
            "INFO:tensorflow:Saving 'checkpoint_path' summary for global step 1000: /content/model/model.ckpt-1000\n",
            "model directory = /content/model\n",
            "accuracy: 0.80216205\n",
            "accuracy_baseline: 0.76377374\n",
            "auc: 0.7223603\n",
            "auc_precision_recall: 0.5524089\n",
            "average_loss: 0.48308435\n",
            "global_step: 1000\n",
            "label/mean: 0.23622628\n",
            "loss: 0.4836687\n",
            "precision: 0.7093101\n",
            "prediction/mean: 0.288081\n",
            "recall: 0.27535102\n"
          ],
          "name": "stdout"
        }
      ]
    },
    {
      "cell_type": "code",
      "metadata": {
        "id": "wMWP2c6toUI8",
        "colab_type": "code",
        "colab": {}
      },
      "source": [
        ""
      ],
      "execution_count": null,
      "outputs": []
    }
  ]
}