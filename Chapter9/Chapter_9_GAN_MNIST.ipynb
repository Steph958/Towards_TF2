{
  "nbformat": 4,
  "nbformat_minor": 0,
  "metadata": {
    "colab": {
      "name": "Chapter_9_GAN_MNIST.ipynb",
      "provenance": []
    },
    "kernelspec": {
      "name": "python3",
      "display_name": "Python 3"
    },
    "accelerator": "GPU"
  },
  "cells": [
    {
      "cell_type": "code",
      "metadata": {
        "id": "ERjLCE-t6uTB",
        "colab_type": "code",
        "colab": {
          "base_uri": "https://localhost:8080/",
          "height": 34
        },
        "outputId": "1dab981c-7470-484f-be77-30386b16e5bd"
      },
      "source": [
        "import numpy as np\n",
        "import pandas as pd\n",
        "from sklearn import preprocessing\n",
        "import numpy as np\n",
        "import matplotlib.pyplot as plt\n",
        "from sklearn.model_selection import train_test_split, cross_val_score, KFold\n",
        "from PIL import Image\n",
        "%tensorflow_version 2.x\n",
        "import tensorflow as tf\n",
        "device_name = tf.test.gpu_device_name()\n",
        "if device_name != '/device:GPU:0':\n",
        "  raise SystemError('GPU device not found')\n",
        "print('Found GPU at: {}'.format(device_name))\n",
        "from tensorflow import keras\n",
        "from tensorflow.keras import datasets,layers,optimizers,Sequential,metrics\n",
        "import  os\n",
        "import glob"
      ],
      "execution_count": null,
      "outputs": [
        {
          "output_type": "stream",
          "text": [
            "Found GPU at: /device:GPU:0\n"
          ],
          "name": "stdout"
        }
      ]
    },
    {
      "cell_type": "code",
      "metadata": {
        "id": "fDbE7EoU7JAK",
        "colab_type": "code",
        "colab": {}
      },
      "source": [
        "# load mnist data\n",
        "batch_size = 256\n",
        "(x_train, _), (x_test, _) = keras.datasets.mnist.load_data()\n",
        "x_train = x_train.astype(np.float32) / 255.\n",
        "train_data = tf.data.Dataset.from_tensor_slices(x_train).shuffle(batch_size*4).batch(batch_size).repeat()\n",
        "train_data_iter = iter(train_data)\n",
        "inputs_shape = [-1, 28, 28, 1]"
      ],
      "execution_count": null,
      "outputs": []
    },
    {
      "cell_type": "code",
      "metadata": {
        "id": "DEVCerVO9kge",
        "colab_type": "code",
        "colab": {}
      },
      "source": [
        "class Generator(keras.Model):\n",
        "\n",
        "    def __init__(self):\n",
        "        super(Generator, self).__init__()\n",
        "\n",
        "        self.n_f = 512\n",
        "        self.n_k = 4\n",
        "\n",
        "        # input z vector is [None, 100]\n",
        "        self.dense1 = keras.layers.Dense(3 * 3 * self.n_f)\n",
        "        self.conv2 = keras.layers.Conv2DTranspose(self.n_f // 2, 3, 2, 'valid')\n",
        "        self.bn2 = keras.layers.BatchNormalization()\n",
        "        self.conv3 = keras.layers.Conv2DTranspose(self.n_f // 4, self.n_k, 2, 'same')\n",
        "        self.bn3 = keras.layers.BatchNormalization()\n",
        "        self.conv4 = keras.layers.Conv2DTranspose(1, self.n_k, 2, 'same')\n",
        "        return\n",
        "\n",
        "    def call(self, inputs, training=None):\n",
        "        # [b, 100] => [b, 3, 3, 512]\n",
        "        x = tf.nn.leaky_relu(tf.reshape(self.dense1(inputs), shape=[-1, 3, 3, self.n_f]))\n",
        "        x = tf.nn.leaky_relu(self.bn2(self.conv2(x), training=training))\n",
        "        x = tf.nn.leaky_relu(self.bn3(self.conv3(x), training=training))\n",
        "        x = tf.tanh(self.conv4(x))\n",
        "        return x\n"
      ],
      "execution_count": null,
      "outputs": []
    },
    {
      "cell_type": "code",
      "metadata": {
        "id": "Jcw2DAYd9w8V",
        "colab_type": "code",
        "colab": {}
      },
      "source": [
        "class Discriminator(keras.Model):\n",
        "\n",
        "    def __init__(self):\n",
        "        super(Discriminator, self).__init__()\n",
        "\n",
        "        self.n_f = 64\n",
        "        self.n_k = 4\n",
        "\n",
        "        # input image is [-1, 28, 28, 1]\n",
        "        self.conv1 = keras.layers.Conv2D(self.n_f, self.n_k, 2, 'same')\n",
        "        self.conv2 = keras.layers.Conv2D(self.n_f * 2, self.n_k, 2, 'same')\n",
        "        self.bn2 = keras.layers.BatchNormalization()\n",
        "        self.conv3 = keras.layers.Conv2D(self.n_f * 4, self.n_k, 2, 'same')\n",
        "        self.bn3 = keras.layers.BatchNormalization()\n",
        "        self.flatten4 = keras.layers.Flatten()\n",
        "        self.dense4 = keras.layers.Dense(1)\n",
        "        return\n",
        "\n",
        "    def call(self, inputs, training=None):\n",
        "        x = tf.nn.leaky_relu(self.conv1(inputs))\n",
        "        x = tf.nn.leaky_relu(self.bn2(self.conv2(x), training=training))\n",
        "        x = tf.nn.leaky_relu(self.bn3(self.conv3(x), training=training))\n",
        "        x = self.dense4(self.flatten4(x))\n",
        "        return x"
      ],
      "execution_count": null,
      "outputs": []
    },
    {
      "cell_type": "code",
      "metadata": {
        "id": "wRoHrY4N90KD",
        "colab_type": "code",
        "colab": {}
      },
      "source": [
        "g = Generator()\n",
        "d = Discriminator()"
      ],
      "execution_count": null,
      "outputs": []
    },
    {
      "cell_type": "code",
      "metadata": {
        "id": "61ln1aiY91fH",
        "colab_type": "code",
        "colab": {
          "base_uri": "https://localhost:8080/",
          "height": 282
        },
        "outputId": "8d634968-8b9d-4906-fd12-120734daf1e9"
      },
      "source": [
        "import imageio\n",
        "import matplotlib.pyplot as plt\n",
        "\n",
        "noise = tf.random.normal([1, 100])\n",
        "generated_image = g(noise, training=False)\n",
        "\n",
        "plt.imshow(generated_image[0, :, :, 0], cmap='gray')"
      ],
      "execution_count": null,
      "outputs": [
        {
          "output_type": "execute_result",
          "data": {
            "text/plain": [
              "<matplotlib.image.AxesImage at 0x7f1fd6d68080>"
            ]
          },
          "metadata": {
            "tags": []
          },
          "execution_count": 9
        },
        {
          "output_type": "display_data",
          "data": {
            "image/png": "[encoded data removed]",
            "text/plain": [
              "<Figure size 432x288 with 1 Axes>"
            ]
          },
          "metadata": {
            "tags": []
          }
        }
      ]
    },
    {
      "cell_type": "code",
      "metadata": {
        "id": "cful_dxy92yS",
        "colab_type": "code",
        "colab": {
          "base_uri": "https://localhost:8080/",
          "height": 34
        },
        "outputId": "15115c56-9cf4-41ac-e25d-446415f1a4c3"
      },
      "source": [
        "decision = d(generated_image)\n",
        "print (decision)"
      ],
      "execution_count": null,
      "outputs": [
        {
          "output_type": "stream",
          "text": [
            "tf.Tensor([[0.00023654]], shape=(1, 1), dtype=float32)\n"
          ],
          "name": "stdout"
        }
      ]
    },
    {
      "cell_type": "code",
      "metadata": {
        "id": "ycExWij895ug",
        "colab_type": "code",
        "colab": {}
      },
      "source": [
        "z_dim = 50\n",
        "epochs = 1000\n",
        "batch_size = 128\n",
        "learning_rate = 0.0002\n",
        "is_training = True"
      ],
      "execution_count": null,
      "outputs": []
    },
    {
      "cell_type": "code",
      "metadata": {
        "id": "tKJDd1dJ97we",
        "colab_type": "code",
        "colab": {
          "base_uri": "https://localhost:8080/",
          "height": 731
        },
        "outputId": "4c21f50b-2625-4ade-a136-95d844ab2056"
      },
      "source": [
        "generator = Generator()\n",
        "generator.build(input_shape=(batch_size, z_dim))\n",
        "generator.summary()\n",
        "discriminator = Discriminator()\n",
        "discriminator.build(input_shape=(batch_size, 28, 28, 1))\n",
        "discriminator.summary()\n",
        "\n",
        "# prepare optimizer\n",
        "d_optimizer = keras.optimizers.Adam(learning_rate=learning_rate, beta_1=0.5)\n",
        "g_optimizer = keras.optimizers.Adam(learning_rate=learning_rate, beta_1=0.5)"
      ],
      "execution_count": null,
      "outputs": [
        {
          "output_type": "stream",
          "text": [
            "Model: \"generator_1\"\n",
            "_________________________________________________________________\n",
            "Layer (type)                 Output Shape              Param #   \n",
            "=================================================================\n",
            "dense_2 (Dense)              multiple                  235008    \n",
            "_________________________________________________________________\n",
            "conv2d_transpose_3 (Conv2DTr multiple                  1179904   \n",
            "_________________________________________________________________\n",
            "batch_normalization_4 (Batch multiple                  1024      \n",
            "_________________________________________________________________\n",
            "conv2d_transpose_4 (Conv2DTr multiple                  524416    \n",
            "_________________________________________________________________\n",
            "batch_normalization_5 (Batch multiple                  512       \n",
            "_________________________________________________________________\n",
            "conv2d_transpose_5 (Conv2DTr multiple                  2049      \n",
            "=================================================================\n",
            "Total params: 1,942,913\n",
            "Trainable params: 1,942,145\n",
            "Non-trainable params: 768\n",
            "_________________________________________________________________\n",
            "Model: \"discriminator_1\"\n",
            "_________________________________________________________________\n",
            "Layer (type)                 Output Shape              Param #   \n",
            "=================================================================\n",
            "conv2d_3 (Conv2D)            multiple                  1088      \n",
            "_________________________________________________________________\n",
            "conv2d_4 (Conv2D)            multiple                  131200    \n",
            "_________________________________________________________________\n",
            "batch_normalization_6 (Batch multiple                  512       \n",
            "_________________________________________________________________\n",
            "conv2d_5 (Conv2D)            multiple                  524544    \n",
            "_________________________________________________________________\n",
            "batch_normalization_7 (Batch multiple                  1024      \n",
            "_________________________________________________________________\n",
            "flatten_1 (Flatten)          multiple                  0         \n",
            "_________________________________________________________________\n",
            "dense_3 (Dense)              multiple                  4097      \n",
            "=================================================================\n",
            "Total params: 662,465\n",
            "Trainable params: 661,697\n",
            "Non-trainable params: 768\n",
            "_________________________________________________________________\n"
          ],
          "name": "stdout"
        }
      ]
    },
    {
      "cell_type": "code",
      "metadata": {
        "id": "Zn8U8WPt99Z-",
        "colab_type": "code",
        "colab": {}
      },
      "source": [
        "def loss_real(logits):\n",
        "    return tf.reduce_mean(tf.nn.sigmoid_cross_entropy_with_logits(logits=logits,\n",
        "                                                                  labels=tf.ones_like(logits)))\n",
        "\n",
        "def loss_fake(logits):\n",
        "    return tf.reduce_mean(tf.nn.sigmoid_cross_entropy_with_logits(logits=logits,\n",
        "                                                                  labels=tf.zeros_like(logits)))"
      ],
      "execution_count": null,
      "outputs": []
    },
    {
      "cell_type": "code",
      "metadata": {
        "id": "pKE6a9Qi9_ZU",
        "colab_type": "code",
        "colab": {}
      },
      "source": [
        "def dis_loss(generator, discriminator, input_noise, real_image, is_trainig):\n",
        "    fake_image = generator(input_noise, is_trainig)\n",
        "    d_real_logits = discriminator(real_image, is_trainig)\n",
        "    d_fake_logits = discriminator(fake_image, is_trainig)\n",
        "\n",
        "    d_loss_real = loss_real(d_real_logits)\n",
        "    d_loss_fake = loss_fake(d_fake_logits)\n",
        "    loss = d_loss_real + d_loss_fake\n",
        "    return loss"
      ],
      "execution_count": null,
      "outputs": []
    },
    {
      "cell_type": "code",
      "metadata": {
        "id": "fFo1na-w-Atr",
        "colab_type": "code",
        "colab": {}
      },
      "source": [
        "def gen_loss(generator, discriminator, input_noise, is_trainig):\n",
        "    fake_image = generator(input_noise, is_trainig)\n",
        "    fake_loss = discriminator(fake_image, is_trainig)\n",
        "    loss = loss_real(fake_loss)\n",
        "    return loss"
      ],
      "execution_count": null,
      "outputs": []
    },
    {
      "cell_type": "code",
      "metadata": {
        "id": "IZLLG882-BtL",
        "colab_type": "code",
        "colab": {
          "base_uri": "https://localhost:8080/",
          "height": 187
        },
        "outputId": "f6b7cca9-fb62-410b-88ee-ae7516db8908"
      },
      "source": [
        "for epoch in range(epochs):\n",
        "\n",
        "    batch_x = next(train_data_iter)\n",
        "    batch_x = tf.reshape(batch_x, shape=inputs_shape)\n",
        "    batch_x = batch_x * 2.0 - 1.0\n",
        "    batch_z = tf.random.normal(shape=[batch_size, z_dim])\n",
        "\n",
        "    with tf.GradientTape() as tape:\n",
        "        d_loss = dis_loss(generator, discriminator, batch_z, batch_x, is_training)\n",
        "    grads = tape.gradient(d_loss, discriminator.trainable_variables)\n",
        "    d_optimizer.apply_gradients(zip(grads, discriminator.trainable_variables))\n",
        "\n",
        "    with tf.GradientTape() as tape:\n",
        "        g_loss = gen_loss(generator, discriminator, batch_z, is_training)\n",
        "    grads = tape.gradient(g_loss, generator.trainable_variables)\n",
        "    g_optimizer.apply_gradients(zip(grads, generator.trainable_variables))\n",
        "\n",
        "\n",
        "    if epoch % 100 == 0:\n",
        "\n",
        "        print(epoch, 'd loss:', float(d_loss), 'g loss:', float(g_loss))"
      ],
      "execution_count": null,
      "outputs": [
        {
          "output_type": "stream",
          "text": [
            "0 d loss: 1.9925601482391357 g loss: 1.3043920993804932\n",
            "100 d loss: 0.8000475168228149 g loss: 2.75465726852417\n",
            "200 d loss: 0.7372235059738159 g loss: 2.4975814819335938\n",
            "300 d loss: 0.5519148707389832 g loss: 2.7739174365997314\n",
            "400 d loss: 0.4761248826980591 g loss: 2.104170799255371\n",
            "500 d loss: 0.6185640096664429 g loss: 2.3288896083831787\n",
            "600 d loss: 0.6658599972724915 g loss: 2.5580506324768066\n",
            "700 d loss: 0.6784998178482056 g loss: 1.2318670749664307\n",
            "800 d loss: 0.5423045754432678 g loss: 1.9270118474960327\n",
            "900 d loss: 0.596870481967926 g loss: 2.523186445236206\n"
          ],
          "name": "stdout"
        }
      ]
    },
    {
      "cell_type": "code",
      "metadata": {
        "id": "kS5ts3Wp-DJL",
        "colab_type": "code",
        "colab": {
          "base_uri": "https://localhost:8080/",
          "height": 282
        },
        "outputId": "5dfc4238-c0b3-4176-959d-e75c2701a3e4"
      },
      "source": [
        "noise = tf.random.normal([1, 50])\n",
        "generated_image = generator(noise, training=False)\n",
        "\n",
        "plt.imshow(generated_image[0, :, :, 0], cmap='gray')"
      ],
      "execution_count": null,
      "outputs": [
        {
          "output_type": "execute_result",
          "data": {
            "text/plain": [
              "<matplotlib.image.AxesImage at 0x7f1fd6847748>"
            ]
          },
          "metadata": {
            "tags": []
          },
          "execution_count": 17
        },
        {
          "output_type": "display_data",
          "data": {
            "image/png": "[encoded data removed]",
            "text/plain": [
              "<Figure size 432x288 with 1 Axes>"
            ]
          },
          "metadata": {
            "tags": []
          }
        }
      ]
    },
    {
      "cell_type": "code",
      "metadata": {
        "id": "kvkQeiYH-Tqc",
        "colab_type": "code",
        "colab": {}
      },
      "source": [
        ""
      ],
      "execution_count": null,
      "outputs": []
    }
  ]
}