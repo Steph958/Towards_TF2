{
  "nbformat": 4,
  "nbformat_minor": 0,
  "metadata": {
    "colab": {
      "name": "Chapter9_VAE.ipynb",
      "provenance": []
    },
    "kernelspec": {
      "name": "python3",
      "display_name": "Python 3"
    }
  },
  "cells": [
    {
      "cell_type": "code",
      "metadata": {
        "id": "Wvpe5QSf4jCt",
        "colab_type": "code",
        "colab": {}
      },
      "source": [
        "import numpy as np\n",
        "import pandas as pd\n",
        "from sklearn import preprocessing\n",
        "try:\n",
        "  # %tensorflow_version only exists in Colab.\n",
        "  %tensorflow_version 2.x\n",
        "except Exception:\n",
        "  pass\n",
        "import tensorflow as tf\n",
        "import numpy as np\n",
        "import matplotlib.pyplot as plt\n",
        "from sklearn.model_selection import train_test_split, cross_val_score, KFold\n",
        "from PIL import Image\n",
        "from tensorflow import keras\n",
        "from tensorflow.keras import datasets,layers,optimizers,Sequential,metrics"
      ],
      "execution_count": null,
      "outputs": []
    },
    {
      "cell_type": "code",
      "metadata": {
        "id": "fztVUaPU5jIj",
        "colab_type": "code",
        "colab": {}
      },
      "source": [
        "def save_img(imgs,names):\n",
        "  img_new = Image.new('L',(280,280))\n",
        "  index = 0\n",
        "  for i in range(0,280,80):\n",
        "    for j in range(0,280,80):\n",
        "      img = imgs[index]\n",
        "      img = Image.fromarray(img,mode='L')\n",
        "      img_new.paste(img,(i,j))\n",
        "      index+=1\n",
        "  img_new.save(names)"
      ],
      "execution_count": null,
      "outputs": []
    },
    {
      "cell_type": "code",
      "metadata": {
        "id": "RivjLy7e4m3w",
        "colab_type": "code",
        "colab": {}
      },
      "source": [
        "def feature_scale(x):\n",
        "  x = tf.cast(x,dtype=tf.float32)/255.\n",
        "  return x"
      ],
      "execution_count": null,
      "outputs": []
    },
    {
      "cell_type": "code",
      "metadata": {
        "id": "t0_XYjkC4v99",
        "colab_type": "code",
        "colab": {}
      },
      "source": [
        "#Dim reduct nums\n",
        "dim_reduce = 10\n",
        "batch_num = 128\n",
        "lr = 1e-3"
      ],
      "execution_count": null,
      "outputs": []
    },
    {
      "cell_type": "code",
      "metadata": {
        "id": "0loUea-L4xH8",
        "colab_type": "code",
        "colab": {
          "base_uri": "https://localhost:8080/",
          "height": 34
        },
        "outputId": "b8f21552-3014-4edc-ee20-4040a3d1faaf"
      },
      "source": [
        "(x,y),(x_test,y_test) = datasets.fashion_mnist.load_data()\n",
        "data = tf.data.Dataset.from_tensor_slices(x)\n",
        "data = data.map(feature_scale).shuffle(10000).batch(batch_num)\n",
        "\n",
        "data_test = tf.data.Dataset.from_tensor_slices(x_test)\n",
        "data_test = data_test.map(feature_scale).batch(batch_num)\n",
        "\n",
        "data_iter = iter(data)\n",
        "samples = next(data_iter)\n",
        "print(samples[0].shape,samples[1].shape)"
      ],
      "execution_count": null,
      "outputs": [
        {
          "output_type": "stream",
          "text": [
            "(28, 28) (28, 28)\n"
          ],
          "name": "stdout"
        }
      ]
    },
    {
      "cell_type": "code",
      "metadata": {
        "id": "JhmzGZWd40G8",
        "colab_type": "code",
        "colab": {}
      },
      "source": [
        "class VAE(keras.Model):\n",
        "  def __init__(self):\n",
        "    super(VAE,self).__init__()\n",
        "    #encoder\n",
        "    self.fc_layer_1 = layers.Dense(128)\n",
        "    self.fc_layer_2 = layers.Dense(dim_reduce)\n",
        "    self.fc_layer_3 = layers.Dense(dim_reduce)\n",
        "    \n",
        "    \n",
        "    self.fc_layer_4 = layers.Dense(128)\n",
        "    self.fc_layer_5 = layers.Dense(784)\n",
        "    \n",
        "\n",
        "  def model_encoder(self, x):\n",
        "    h = tf.nn.relu(self.fc_layer_1(x))\n",
        "    mean_fc = self.fc_layer_2(h)\n",
        "    var_fc = self.fc_layer_3(h)\n",
        "    return mean_fc,var_fc\n",
        "\n",
        "  def model_decoder(self, z):\n",
        "    out = tf.nn.relu(self.fc_layer_4(z))\n",
        "    out = self.fc_layer_5(out)\n",
        "    return out\n",
        "\n",
        "  def reparameter(self,mean_x,var_x):\n",
        "    eps = tf.random.normal(var_x.shape)\n",
        "    std = tf.exp(var_x)**0.5\n",
        "    z = mean_x + std*eps\n",
        "    return z\n",
        "  \n",
        "  def call(self, inputs, training=None):\n",
        "    mean_x,var_x = self.model_encoder(inputs)\n",
        "    z = self.reparameter(mean_x,var_x)\n",
        "    x = self.model_decoder(z)\n",
        "    return x,mean_x,var_x"
      ],
      "execution_count": null,
      "outputs": []
    },
    {
      "cell_type": "code",
      "metadata": {
        "id": "-MmhR8h744Wg",
        "colab_type": "code",
        "colab": {
          "base_uri": "https://localhost:8080/",
          "height": 323
        },
        "outputId": "cbfe33bb-38cd-4da5-b012-4919b90992ca"
      },
      "source": [
        "model = VAE()\n",
        "model.build(input_shape=(4,784))\n",
        "optimizer = optimizers.Adam(lr=lr)\n",
        "model.summary()"
      ],
      "execution_count": null,
      "outputs": [
        {
          "output_type": "stream",
          "text": [
            "Model: \"vae\"\n",
            "_________________________________________________________________\n",
            "Layer (type)                 Output Shape              Param #   \n",
            "=================================================================\n",
            "dense (Dense)                multiple                  100480    \n",
            "_________________________________________________________________\n",
            "dense_1 (Dense)              multiple                  1290      \n",
            "_________________________________________________________________\n",
            "dense_2 (Dense)              multiple                  1290      \n",
            "_________________________________________________________________\n",
            "dense_3 (Dense)              multiple                  1408      \n",
            "_________________________________________________________________\n",
            "dense_4 (Dense)              multiple                  101136    \n",
            "=================================================================\n",
            "Total params: 205,604\n",
            "Trainable params: 205,604\n",
            "Non-trainable params: 0\n",
            "_________________________________________________________________\n"
          ],
          "name": "stdout"
        }
      ]
    },
    {
      "cell_type": "code",
      "metadata": {
        "id": "jA6dIsJy46M9",
        "colab_type": "code",
        "colab": {}
      },
      "source": [
        "!rm -rf img_result\n",
        "!mkdir img_result"
      ],
      "execution_count": null,
      "outputs": []
    },
    {
      "cell_type": "code",
      "metadata": {
        "id": "hLwXJg7P47ki",
        "colab_type": "code",
        "colab": {
          "base_uri": "https://localhost:8080/",
          "height": 867
        },
        "outputId": "80dd9a3d-1428-4183-e39f-291df75b04f5"
      },
      "source": [
        "optimizer = optimizers.Adam(lr=lr)\n",
        "for i in range(10):\n",
        "  for step,x in enumerate(data):\n",
        "    x = tf.reshape(x,[-1,784])\n",
        "    with tf.GradientTape() as tape:\n",
        "      logits,mean_x,var_x = model(x)\n",
        "      loss = tf.nn.sigmoid_cross_entropy_with_logits(labels=x,logits=logits)\n",
        "      loss = tf.reduce_sum(loss)/x.shape[0]\n",
        "      kl_div = -0.5*(var_x+1-mean_x**2-tf.exp(var_x))\n",
        "      kl_div = tf.reduce_sum(kl_div)/x.shape[0]\n",
        "      \n",
        "      loss = loss + 1.*kl_div\n",
        "    grads = tape.gradient(loss,model.trainable_variables)\n",
        "    optimizer.apply_gradients(zip(grads,model.trainable_variables))\n",
        "    \n",
        "    if step %100==0:\n",
        "      print(i,step,'loss:',float(loss),'kl_div:',float(kl_div))\n",
        "      \n",
        "  x = next(iter(data_test))\n",
        "  val_x = tf.reshape(x,[-1,784])\n",
        "  logits,_,_ = model(val_x)\n",
        "  x_hat = tf.sigmoid(logits)\n",
        "  x_hat = tf.reshape(x_hat,[-1,28,28])\n",
        "  x_hat = x_hat.numpy()*255\n",
        "  x_hat = x_hat.astype(np.uint8)\n",
        "  save_img(x_hat,'img_result/VAE_img_%d.png'%i)"
      ],
      "execution_count": null,
      "outputs": [
        {
          "output_type": "stream",
          "text": [
            "0 0 loss: 260.6536865234375 kl_div: 15.01053524017334\n",
            "0 100 loss: 255.05715942382812 kl_div: 14.16098403930664\n",
            "0 200 loss: 253.0172119140625 kl_div: 14.4535493850708\n",
            "0 300 loss: 254.93603515625 kl_div: 14.592442512512207\n",
            "0 400 loss: 273.73236083984375 kl_div: 14.08193588256836\n",
            "1 0 loss: 261.02496337890625 kl_div: 14.518166542053223\n",
            "1 100 loss: 259.20953369140625 kl_div: 14.700233459472656\n",
            "1 200 loss: 247.3898162841797 kl_div: 15.081777572631836\n",
            "1 300 loss: 250.42955017089844 kl_div: 14.643710136413574\n",
            "1 400 loss: 236.47540283203125 kl_div: 14.7083740234375\n",
            "2 0 loss: 246.284912109375 kl_div: 14.419654846191406\n",
            "2 100 loss: 251.54071044921875 kl_div: 14.560482025146484\n",
            "2 200 loss: 246.84365844726562 kl_div: 14.768489837646484\n",
            "2 300 loss: 259.6373596191406 kl_div: 14.294961929321289\n",
            "2 400 loss: 247.30999755859375 kl_div: 15.784496307373047\n",
            "3 0 loss: 252.60140991210938 kl_div: 14.31601333618164\n",
            "3 100 loss: 252.27960205078125 kl_div: 14.752006530761719\n",
            "3 200 loss: 255.7644805908203 kl_div: 14.83266830444336\n",
            "3 300 loss: 244.56788635253906 kl_div: 15.245809555053711\n",
            "3 400 loss: 247.2672882080078 kl_div: 15.673346519470215\n",
            "4 0 loss: 240.83526611328125 kl_div: 15.0521879196167\n",
            "4 100 loss: 246.4168701171875 kl_div: 14.696682929992676\n",
            "4 200 loss: 247.4803009033203 kl_div: 15.543630599975586\n",
            "4 300 loss: 254.81179809570312 kl_div: 15.217262268066406\n",
            "4 400 loss: 236.71176147460938 kl_div: 15.193917274475098\n",
            "5 0 loss: 252.42626953125 kl_div: 15.425985336303711\n",
            "5 100 loss: 235.07106018066406 kl_div: 14.688339233398438\n",
            "5 200 loss: 245.4885711669922 kl_div: 15.485947608947754\n",
            "5 300 loss: 241.97706604003906 kl_div: 15.251005172729492\n",
            "5 400 loss: 240.146240234375 kl_div: 14.86745834350586\n",
            "6 0 loss: 249.17784118652344 kl_div: 14.494791984558105\n",
            "6 100 loss: 230.15830993652344 kl_div: 14.808091163635254\n",
            "6 200 loss: 257.882568359375 kl_div: 15.257770538330078\n",
            "6 300 loss: 239.74380493164062 kl_div: 15.770831108093262\n",
            "6 400 loss: 254.41424560546875 kl_div: 16.48473358154297\n",
            "7 0 loss: 246.6445770263672 kl_div: 15.573648452758789\n",
            "7 100 loss: 254.0352325439453 kl_div: 15.453482627868652\n",
            "7 200 loss: 249.2367401123047 kl_div: 15.043862342834473\n",
            "7 300 loss: 239.508544921875 kl_div: 15.06061840057373\n",
            "7 400 loss: 253.6077117919922 kl_div: 15.309613227844238\n",
            "8 0 loss: 235.97938537597656 kl_div: 14.562755584716797\n",
            "8 100 loss: 248.58103942871094 kl_div: 15.267261505126953\n",
            "8 200 loss: 242.99928283691406 kl_div: 15.362563133239746\n",
            "8 300 loss: 262.8021240234375 kl_div: 14.85230827331543\n",
            "8 400 loss: 249.8172149658203 kl_div: 15.573190689086914\n",
            "9 0 loss: 241.31396484375 kl_div: 15.335260391235352\n",
            "9 100 loss: 253.9300537109375 kl_div: 14.739742279052734\n",
            "9 200 loss: 237.07830810546875 kl_div: 14.982297897338867\n",
            "9 300 loss: 252.66064453125 kl_div: 14.984085083007812\n",
            "9 400 loss: 239.91207885742188 kl_div: 15.109846115112305\n"
          ],
          "name": "stdout"
        }
      ]
    },
    {
      "cell_type": "code",
      "metadata": {
        "id": "yMal6Npv487s",
        "colab_type": "code",
        "colab": {}
      },
      "source": [
        "from google.colab import files\n",
        "files.download('img_result/VAE_img_9.png')"
      ],
      "execution_count": null,
      "outputs": []
    },
    {
      "cell_type": "code",
      "metadata": {
        "id": "AdFwnBlY6R7I",
        "colab_type": "code",
        "colab": {}
      },
      "source": [
        ""
      ],
      "execution_count": null,
      "outputs": []
    }
  ]
}