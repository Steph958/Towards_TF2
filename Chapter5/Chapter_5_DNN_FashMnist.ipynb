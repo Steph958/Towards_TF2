{
  "nbformat": 4,
  "nbformat_minor": 0,
  "metadata": {
    "colab": {
      "name": "Chapter_5_DNN_FashMnist.ipynb",
      "provenance": []
    },
    "kernelspec": {
      "name": "python3",
      "display_name": "Python 3"
    },
    "accelerator": "GPU"
  },
  "cells": [
    {
      "cell_type": "code",
      "metadata": {
        "id": "Tg_-RmW7wuAs",
        "colab_type": "code",
        "colab": {}
      },
      "source": [
        "import numpy as np\n",
        "import pandas as pd\n",
        "from sklearn import preprocessing\n",
        "try:\n",
        "  # %tensorflow_version only exists in Colab.\n",
        "  %tensorflow_version 2.x\n",
        "except Exception:\n",
        "  pass\n",
        "import tensorflow as tf\n",
        "import numpy as np\n",
        "import matplotlib.pyplot as plt\n",
        "from sklearn.model_selection import train_test_split, cross_val_score, KFold\n",
        "from tensorflow import keras\n",
        "from tensorflow.keras import datasets,layers,optimizers,Sequential,metrics"
      ],
      "execution_count": 1,
      "outputs": []
    },
    {
      "cell_type": "code",
      "metadata": {
        "id": "XZIIcUNUyxFM",
        "colab_type": "code",
        "colab": {
          "base_uri": "https://localhost:8080/",
          "height": 153
        },
        "outputId": "1272c05d-3c26-4046-e50e-86eea85b0815"
      },
      "source": [
        "(x,y),(x_test,y_test) = datasets.fashion_mnist.load_data()"
      ],
      "execution_count": 2,
      "outputs": [
        {
          "output_type": "stream",
          "text": [
            "Downloading data from https://storage.googleapis.com/tensorflow/tf-keras-datasets/train-labels-idx1-ubyte.gz\n",
            "32768/29515 [=================================] - 0s 0us/step\n",
            "Downloading data from https://storage.googleapis.com/tensorflow/tf-keras-datasets/train-images-idx3-ubyte.gz\n",
            "26427392/26421880 [==============================] - 1s 0us/step\n",
            "Downloading data from https://storage.googleapis.com/tensorflow/tf-keras-datasets/t10k-labels-idx1-ubyte.gz\n",
            "8192/5148 [===============================================] - 0s 0us/step\n",
            "Downloading data from https://storage.googleapis.com/tensorflow/tf-keras-datasets/t10k-images-idx3-ubyte.gz\n",
            "4423680/4422102 [==============================] - 0s 0us/step\n"
          ],
          "name": "stdout"
        }
      ]
    },
    {
      "cell_type": "code",
      "metadata": {
        "id": "dpcUZDXZy6Vj",
        "colab_type": "code",
        "colab": {
          "base_uri": "https://localhost:8080/",
          "height": 34
        },
        "outputId": "b0d43422-ad2b-4534-f6ea-33a05ec82a9c"
      },
      "source": [
        "print(x.shape,y.shape) "
      ],
      "execution_count": 3,
      "outputs": [
        {
          "output_type": "stream",
          "text": [
            "(60000, 28, 28) (60000,)\n"
          ],
          "name": "stdout"
        }
      ]
    },
    {
      "cell_type": "code",
      "metadata": {
        "id": "2lOOmGWZy9La",
        "colab_type": "code",
        "colab": {
          "base_uri": "https://localhost:8080/",
          "height": 265
        },
        "outputId": "a67bf969-2ed0-4de6-d16a-e564aa671bfe"
      },
      "source": [
        "plt.figure()\n",
        "plt.imshow(x[0])\n",
        "plt.colorbar()\n",
        "plt.grid(False)"
      ],
      "execution_count": 4,
      "outputs": [
        {
          "output_type": "display_data",
          "data": {
            "image/png": "[encoded data removed]",
            "text/plain": [
              "<Figure size 432x288 with 2 Axes>"
            ]
          },
          "metadata": {
            "tags": [],
            "needs_background": "light"
          }
        }
      ]
    },
    {
      "cell_type": "code",
      "metadata": {
        "id": "XC752xeny-Y-",
        "colab_type": "code",
        "colab": {}
      },
      "source": [
        "def feature_scale(x,y):\n",
        "  x = tf.cast(x,dtype=tf.float32)/255.\n",
        "  y = tf.cast(y,dtype=tf.int32)\n",
        "  return x,y"
      ],
      "execution_count": 5,
      "outputs": []
    },
    {
      "cell_type": "code",
      "metadata": {
        "id": "3548-M4Ny_yX",
        "colab_type": "code",
        "colab": {}
      },
      "source": [
        "data = tf.data.Dataset.from_tensor_slices((x,y))\n",
        "data = data.map(feature_scale).shuffle(10000).batch(128)\n",
        "\n",
        "data_test = tf.data.Dataset.from_tensor_slices((x_test,y_test))\n",
        "data_test = data_test.map(feature_scale).shuffle(10000).batch(128)"
      ],
      "execution_count": 6,
      "outputs": []
    },
    {
      "cell_type": "code",
      "metadata": {
        "id": "DG6gpBrMzBA6",
        "colab_type": "code",
        "colab": {}
      },
      "source": [
        "data_iter = iter(data)"
      ],
      "execution_count": 7,
      "outputs": []
    },
    {
      "cell_type": "code",
      "metadata": {
        "id": "TfIG0uIGzCvN",
        "colab_type": "code",
        "colab": {
          "base_uri": "https://localhost:8080/",
          "height": 34
        },
        "outputId": "a5c78bdd-6857-4a2b-8331-10cacb7c3c7e"
      },
      "source": [
        "samples = next(data_iter)\n",
        "print(samples[0].shape,samples[1].shape)"
      ],
      "execution_count": 8,
      "outputs": [
        {
          "output_type": "stream",
          "text": [
            "(128, 28, 28) (128,)\n"
          ],
          "name": "stdout"
        }
      ]
    },
    {
      "cell_type": "code",
      "metadata": {
        "id": "jnDvy_B0zDs3",
        "colab_type": "code",
        "colab": {}
      },
      "source": [
        "model = Sequential([\n",
        "    layers.Dense(256,activation=tf.nn.relu),\n",
        "    layers.Dense(128,activation=tf.nn.relu),\n",
        "    layers.Dense(64,activation=tf.nn.relu),\n",
        "    layers.Dense(32,activation=tf.nn.relu),\n",
        "    layers.Dense(10,activation=tf.nn.relu)\n",
        "])"
      ],
      "execution_count": 9,
      "outputs": []
    },
    {
      "cell_type": "code",
      "metadata": {
        "id": "22xwtKXizE6M",
        "colab_type": "code",
        "colab": {
          "base_uri": "https://localhost:8080/",
          "height": 323
        },
        "outputId": "578fb39e-525f-4fd1-f186-9809901ed0ed"
      },
      "source": [
        "model.build(input_shape=[None,28*28])\n",
        "\n",
        "model.summary()\n",
        "optimizer = optimizers.Adam()"
      ],
      "execution_count": 10,
      "outputs": [
        {
          "output_type": "stream",
          "text": [
            "Model: \"sequential\"\n",
            "_________________________________________________________________\n",
            "Layer (type)                 Output Shape              Param #   \n",
            "=================================================================\n",
            "dense (Dense)                multiple                  200960    \n",
            "_________________________________________________________________\n",
            "dense_1 (Dense)              multiple                  32896     \n",
            "_________________________________________________________________\n",
            "dense_2 (Dense)              multiple                  8256      \n",
            "_________________________________________________________________\n",
            "dense_3 (Dense)              multiple                  2080      \n",
            "_________________________________________________________________\n",
            "dense_4 (Dense)              multiple                  330       \n",
            "=================================================================\n",
            "Total params: 244,522\n",
            "Trainable params: 244,522\n",
            "Non-trainable params: 0\n",
            "_________________________________________________________________\n"
          ],
          "name": "stdout"
        }
      ]
    },
    {
      "cell_type": "code",
      "metadata": {
        "id": "5NzK8tZ1zH44",
        "colab_type": "code",
        "colab": {
          "base_uri": "https://localhost:8080/",
          "height": 867
        },
        "outputId": "139d64f0-d122-4a3d-ae4e-97a57b4fe5df"
      },
      "source": [
        "for i in range(10):\n",
        "  for step,(x,y) in enumerate(data):\n",
        "    x = tf.reshape(x,[-1,28*28])\n",
        "    with tf.GradientTape() as tape:\n",
        "      logits = model(x)\n",
        "      y_one_hot = tf.one_hot(y,depth=10)\n",
        "      loss = tf.losses.categorical_crossentropy(y_one_hot,logits,from_logits=True)\n",
        "      loss = tf.reduce_mean(loss)\n",
        "    grads = tape.gradient(loss,model.trainable_variables)\n",
        "    optimizer.apply_gradients(zip(grads,model.trainable_variables))\n",
        "    \n",
        "    if step %100==0:\n",
        "      print(i,step,'loss:',float(loss))"
      ],
      "execution_count": 11,
      "outputs": [
        {
          "output_type": "stream",
          "text": [
            "0 0 loss: 2.336238384246826\n",
            "0 100 loss: 0.7447859048843384\n",
            "0 200 loss: 0.5409673452377319\n",
            "0 300 loss: 0.5613892078399658\n",
            "0 400 loss: 0.43953248858451843\n",
            "1 0 loss: 0.3981860280036926\n",
            "1 100 loss: 0.3619774281978607\n",
            "1 200 loss: 0.2441524863243103\n",
            "1 300 loss: 0.40071532130241394\n",
            "1 400 loss: 0.29362720251083374\n",
            "2 0 loss: 0.30181241035461426\n",
            "2 100 loss: 0.36154285073280334\n",
            "2 200 loss: 0.30537623167037964\n",
            "2 300 loss: 0.26920458674430847\n",
            "2 400 loss: 0.3014677166938782\n",
            "3 0 loss: 0.2664702534675598\n",
            "3 100 loss: 0.4127298891544342\n",
            "3 200 loss: 0.23406484723091125\n",
            "3 300 loss: 0.2942761778831482\n",
            "3 400 loss: 0.27292847633361816\n",
            "4 0 loss: 0.21730270981788635\n",
            "4 100 loss: 0.3115699887275696\n",
            "4 200 loss: 0.2619813084602356\n",
            "4 300 loss: 0.22510990500450134\n",
            "4 400 loss: 0.2980996370315552\n",
            "5 0 loss: 0.2171342670917511\n",
            "5 100 loss: 0.23109760880470276\n",
            "5 200 loss: 0.2701130509376526\n",
            "5 300 loss: 0.2175772786140442\n",
            "5 400 loss: 0.34604594111442566\n",
            "6 0 loss: 0.22588390111923218\n",
            "6 100 loss: 0.322609007358551\n",
            "6 200 loss: 0.34044963121414185\n",
            "6 300 loss: 0.2315039187669754\n",
            "6 400 loss: 0.32142630219459534\n",
            "7 0 loss: 0.21255284547805786\n",
            "7 100 loss: 0.21817457675933838\n",
            "7 200 loss: 0.375635027885437\n",
            "7 300 loss: 0.21634213626384735\n",
            "7 400 loss: 0.20216678082942963\n",
            "8 0 loss: 0.2146928310394287\n",
            "8 100 loss: 0.17588062584400177\n",
            "8 200 loss: 0.24993912875652313\n",
            "8 300 loss: 0.32010942697525024\n",
            "8 400 loss: 0.24250701069831848\n",
            "9 0 loss: 0.2570555508136749\n",
            "9 100 loss: 0.30687767267227173\n",
            "9 200 loss: 0.19788548350334167\n",
            "9 300 loss: 0.3707645535469055\n",
            "9 400 loss: 0.17510023713111877\n"
          ],
          "name": "stdout"
        }
      ]
    },
    {
      "cell_type": "code",
      "metadata": {
        "id": "6IBvx6ArzJe3",
        "colab_type": "code",
        "colab": {}
      },
      "source": [
        "total_loss = 0\n",
        "total_num=0\n",
        "for x,y in data_test:\n",
        "  \n",
        "  x = tf.reshape(x,[-1,28*28])\n",
        "  \n",
        "  gd = model(x)\n",
        "  prob = tf.nn.softmax(gd,axis=1)\n",
        "  pred = tf.argmax(prob,axis=1)\n",
        "  \n",
        "  pred = tf.cast(pred,dtype=tf.int32)\n",
        "  correct = tf.equal(pred,y)\n",
        "  \n",
        "  result = tf.reduce_sum(tf.cast(correct,dtype=tf.int32))\n",
        "  \n",
        "  total_loss += int(result)\n",
        "  total_num += x.shape[0]\n",
        "  \n",
        "acc = total_loss/total_num"
      ],
      "execution_count": 12,
      "outputs": []
    },
    {
      "cell_type": "code",
      "metadata": {
        "id": "OxBDATsgzqTt",
        "colab_type": "code",
        "colab": {
          "base_uri": "https://localhost:8080/",
          "height": 34
        },
        "outputId": "b7b4c387-79a2-4544-ca60-59e170fe2b84"
      },
      "source": [
        "acc"
      ],
      "execution_count": 13,
      "outputs": [
        {
          "output_type": "execute_result",
          "data": {
            "text/plain": [
              "0.8883"
            ]
          },
          "metadata": {
            "tags": []
          },
          "execution_count": 13
        }
      ]
    },
    {
      "cell_type": "code",
      "metadata": {
        "id": "ifG_0RL9zyht",
        "colab_type": "code",
        "colab": {}
      },
      "source": [
        ""
      ],
      "execution_count": 13,
      "outputs": []
    }
  ]
}