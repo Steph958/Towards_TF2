{
  "nbformat": 4,
  "nbformat_minor": 0,
  "metadata": {
    "colab": {
      "name": "Chapter_2.ipynb",
      "provenance": []
    },
    "kernelspec": {
      "name": "python3",
      "display_name": "Python 3"
    }
  },
  "cells": [
    {
      "cell_type": "code",
      "metadata": {
        "id": "Urd61_pUHd5b",
        "colab_type": "code",
        "colab": {}
      },
      "source": [
        "try:\n",
        "  # %tensorflow_version only exists in Colab.\n",
        "  %tensorflow_version 2.x\n",
        "except Exception:\n",
        "  pass"
      ],
      "execution_count": 1,
      "outputs": []
    },
    {
      "cell_type": "code",
      "metadata": {
        "id": "BKBXbVlgJs92",
        "colab_type": "code",
        "colab": {
          "base_uri": "https://localhost:8080/",
          "height": 35
        },
        "outputId": "f2da0a6a-49da-4fc2-c008-e299e4dcc33e"
      },
      "source": [
        "import tensorflow as tf\n",
        "tf.__version__"
      ],
      "execution_count": 2,
      "outputs": [
        {
          "output_type": "execute_result",
          "data": {
            "application/vnd.google.colaboratory.intrinsic": {
              "type": "string"
            },
            "text/plain": [
              "'2.2.0'"
            ]
          },
          "metadata": {
            "tags": []
          },
          "execution_count": 2
        }
      ]
    },
    {
      "cell_type": "code",
      "metadata": {
        "id": "HsJraDZKJzSm",
        "colab_type": "code",
        "colab": {
          "base_uri": "https://localhost:8080/",
          "height": 34
        },
        "outputId": "93799c5f-0ea0-427e-db1c-21cd4b4ed343"
      },
      "source": [
        "tf.constant(6)"
      ],
      "execution_count": 3,
      "outputs": [
        {
          "output_type": "execute_result",
          "data": {
            "text/plain": [
              "<tf.Tensor: shape=(), dtype=int32, numpy=6>"
            ]
          },
          "metadata": {
            "tags": []
          },
          "execution_count": 3
        }
      ]
    },
    {
      "cell_type": "code",
      "metadata": {
        "id": "D2NN4flCJ5qj",
        "colab_type": "code",
        "colab": {
          "base_uri": "https://localhost:8080/",
          "height": 34
        },
        "outputId": "c62643a4-77eb-45b0-a833-f2e0aa881077"
      },
      "source": [
        "tf.constant(6.)"
      ],
      "execution_count": 4,
      "outputs": [
        {
          "output_type": "execute_result",
          "data": {
            "text/plain": [
              "<tf.Tensor: shape=(), dtype=float32, numpy=6.0>"
            ]
          },
          "metadata": {
            "tags": []
          },
          "execution_count": 4
        }
      ]
    },
    {
      "cell_type": "code",
      "metadata": {
        "id": "8zt_WKiFJ7-S",
        "colab_type": "code",
        "colab": {
          "base_uri": "https://localhost:8080/",
          "height": 34
        },
        "outputId": "f74e597c-8337-4e1e-93f5-009132a4595b"
      },
      "source": [
        "tf.constant([True,False])"
      ],
      "execution_count": 5,
      "outputs": [
        {
          "output_type": "execute_result",
          "data": {
            "text/plain": [
              "<tf.Tensor: shape=(2,), dtype=bool, numpy=array([ True, False])>"
            ]
          },
          "metadata": {
            "tags": []
          },
          "execution_count": 5
        }
      ]
    },
    {
      "cell_type": "code",
      "metadata": {
        "id": "hcrqvReBKACC",
        "colab_type": "code",
        "colab": {
          "base_uri": "https://localhost:8080/",
          "height": 34
        },
        "outputId": "c901322f-b859-4cb6-c065-efa562f5a0e1"
      },
      "source": [
        "tf.constant('I love tf2!!!')"
      ],
      "execution_count": 6,
      "outputs": [
        {
          "output_type": "execute_result",
          "data": {
            "text/plain": [
              "<tf.Tensor: shape=(), dtype=string, numpy=b'I love tf2!!!'>"
            ]
          },
          "metadata": {
            "tags": []
          },
          "execution_count": 6
        }
      ]
    },
    {
      "cell_type": "markdown",
      "metadata": {
        "id": "r9ZaqV8cNDgS",
        "colab_type": "text"
      },
      "source": [
        " **變數類型**"
      ]
    },
    {
      "cell_type": "code",
      "metadata": {
        "id": "dN0nurwzNH_a",
        "colab_type": "code",
        "colab": {}
      },
      "source": [
        "import numpy as np"
      ],
      "execution_count": 7,
      "outputs": []
    },
    {
      "cell_type": "code",
      "metadata": {
        "id": "YCqMBwZKNSCj",
        "colab_type": "code",
        "colab": {}
      },
      "source": [
        "#Create tf.constant\n",
        "a = tf.constant([1,2,3])\n",
        "#Convert np arry to tf\n",
        "a = np.array([1,2,3])\n",
        "b = tf.convert_to_tensor(a)"
      ],
      "execution_count": 8,
      "outputs": []
    },
    {
      "cell_type": "code",
      "metadata": {
        "id": "FnbzF1v2NNy2",
        "colab_type": "code",
        "colab": {
          "base_uri": "https://localhost:8080/",
          "height": 34
        },
        "outputId": "c7c2fea4-12e8-4ea5-bf0b-c7dc89ce37b1"
      },
      "source": [
        "b"
      ],
      "execution_count": 9,
      "outputs": [
        {
          "output_type": "execute_result",
          "data": {
            "text/plain": [
              "<tf.Tensor: shape=(3,), dtype=int64, numpy=array([1, 2, 3])>"
            ]
          },
          "metadata": {
            "tags": []
          },
          "execution_count": 9
        }
      ]
    },
    {
      "cell_type": "code",
      "metadata": {
        "id": "XJG7cT4XNYmD",
        "colab_type": "code",
        "colab": {
          "base_uri": "https://localhost:8080/",
          "height": 34
        },
        "outputId": "9a547b6f-799a-43a0-8344-d5580024ea04"
      },
      "source": [
        "#Create tf.Variable\n",
        "a = tf.ones(6)\n",
        "b = tf.Variable(a,name='Data_point')\n",
        "b"
      ],
      "execution_count": 10,
      "outputs": [
        {
          "output_type": "execute_result",
          "data": {
            "text/plain": [
              "<tf.Variable 'Data_point:0' shape=(6,) dtype=float32, numpy=array([1., 1., 1., 1., 1., 1.], dtype=float32)>"
            ]
          },
          "metadata": {
            "tags": []
          },
          "execution_count": 10
        }
      ]
    },
    {
      "cell_type": "code",
      "metadata": {
        "id": "8u3CZH_POAXe",
        "colab_type": "code",
        "colab": {
          "base_uri": "https://localhost:8080/",
          "height": 34
        },
        "outputId": "c4712982-c4f0-46f7-8fc3-7a81f09a22cb"
      },
      "source": [
        "b.trainable #check weather trainable"
      ],
      "execution_count": 11,
      "outputs": [
        {
          "output_type": "execute_result",
          "data": {
            "text/plain": [
              "True"
            ]
          },
          "metadata": {
            "tags": []
          },
          "execution_count": 11
        }
      ]
    },
    {
      "cell_type": "code",
      "metadata": {
        "id": "FD1P3feLOJLq",
        "colab_type": "code",
        "colab": {}
      },
      "source": [
        "#Create 0 matrix\n",
        "a = tf.zeros([6,6])\n",
        "#or\n",
        "b = tf.zeros_like(a)\n",
        "#or fill -> shape and fill nums\n",
        "c = tf.fill([6,6],0)"
      ],
      "execution_count": 12,
      "outputs": []
    },
    {
      "cell_type": "code",
      "metadata": {
        "id": "JjAfNQEONGwy",
        "colab_type": "code",
        "colab": {
          "base_uri": "https://localhost:8080/",
          "height": 136
        },
        "outputId": "4e9b0ff5-b086-453f-df09-426743731c73"
      },
      "source": [
        "c"
      ],
      "execution_count": 13,
      "outputs": [
        {
          "output_type": "execute_result",
          "data": {
            "text/plain": [
              "<tf.Tensor: shape=(6, 6), dtype=int32, numpy=\n",
              "array([[0, 0, 0, 0, 0, 0],\n",
              "       [0, 0, 0, 0, 0, 0],\n",
              "       [0, 0, 0, 0, 0, 0],\n",
              "       [0, 0, 0, 0, 0, 0],\n",
              "       [0, 0, 0, 0, 0, 0],\n",
              "       [0, 0, 0, 0, 0, 0]], dtype=int32)>"
            ]
          },
          "metadata": {
            "tags": []
          },
          "execution_count": 13
        }
      ]
    },
    {
      "cell_type": "code",
      "metadata": {
        "id": "GAGpN-pJNOCb",
        "colab_type": "code",
        "colab": {}
      },
      "source": [
        "#Example random by normal distribution\n",
        "a = tf.random.normal([6,6],mean=0,stddev=1)\n",
        "#random by truncated normal distribution\n",
        "b = tf.random.truncated_normal([6,6],mean=0,stddev=1)\n",
        "#random by uniform\n",
        "c = tf.random.uniform([6,6],minval=0,maxval=1)"
      ],
      "execution_count": 14,
      "outputs": []
    },
    {
      "cell_type": "code",
      "metadata": {
        "id": "1ZO56ritR2K3",
        "colab_type": "code",
        "colab": {
          "base_uri": "https://localhost:8080/",
          "height": 238
        },
        "outputId": "0e93c8f8-e59a-42f8-ab91-427b386d5baa"
      },
      "source": [
        "a"
      ],
      "execution_count": 15,
      "outputs": [
        {
          "output_type": "execute_result",
          "data": {
            "text/plain": [
              "<tf.Tensor: shape=(6, 6), dtype=float32, numpy=\n",
              "array([[ 0.24097888,  0.20553762,  0.8995366 ,  1.1600448 ,  0.25291708,\n",
              "         0.37648833],\n",
              "       [-0.42466396,  0.6204753 ,  0.18946598,  0.73095596, -0.52937424,\n",
              "        -0.57800055],\n",
              "       [-0.3604185 , -0.35277134,  1.3113467 , -0.88858694, -1.2658571 ,\n",
              "        -2.048099  ],\n",
              "       [-1.5397677 ,  2.6110299 , -0.78358126, -0.8021525 , -0.80980825,\n",
              "         0.27005717],\n",
              "       [ 0.6558137 ,  0.19863158,  0.19837783, -0.14081572, -0.04454594,\n",
              "         1.2814765 ],\n",
              "       [-0.8373519 , -0.5468744 ,  0.77884823, -0.16533092, -0.23612665,\n",
              "        -0.9739968 ]], dtype=float32)>"
            ]
          },
          "metadata": {
            "tags": []
          },
          "execution_count": 15
        }
      ]
    },
    {
      "cell_type": "code",
      "metadata": {
        "id": "5evx3m0JR2xf",
        "colab_type": "code",
        "colab": {
          "base_uri": "https://localhost:8080/",
          "height": 34
        },
        "outputId": "57bdd3c5-dc6e-4b18-8f97-9c03c6e1564f"
      },
      "source": [
        "#Example for select instance\n",
        "a = tf.ones([1,5,5,3])\n",
        "a[0][0].shape\n",
        "#Output shape:TensorShape([5, 3])\n",
        "a[...,2].shape\n",
        "#Output shape:TensorShape([1, 5, 5])"
      ],
      "execution_count": 16,
      "outputs": [
        {
          "output_type": "execute_result",
          "data": {
            "text/plain": [
              "TensorShape([1, 5, 5])"
            ]
          },
          "metadata": {
            "tags": []
          },
          "execution_count": 16
        }
      ]
    },
    {
      "cell_type": "code",
      "metadata": {
        "id": "tF-70Cl7ixBp",
        "colab_type": "code",
        "colab": {
          "base_uri": "https://localhost:8080/",
          "height": 34
        },
        "outputId": "63568ac0-397b-4571-a5c9-96291d14958e"
      },
      "source": [
        "#use index select\n",
        "tf.gather_nd(a,[0]).shape\n",
        "#Output shape: TensorShape([5, 5, 3])\n",
        "\n",
        "#select axis=1 , row 2 and 3\n",
        "tf.gather(a,axis=1,indices=[2,3]).shape\n",
        "#Output shape: TensorShape([1, 2, 5, 3])"
      ],
      "execution_count": 17,
      "outputs": [
        {
          "output_type": "execute_result",
          "data": {
            "text/plain": [
              "TensorShape([1, 2, 5, 3])"
            ]
          },
          "metadata": {
            "tags": []
          },
          "execution_count": 17
        }
      ]
    },
    {
      "cell_type": "code",
      "metadata": {
        "id": "gZqYYwg9izqp",
        "colab_type": "code",
        "colab": {}
      },
      "source": [
        "#Sorting"
      ],
      "execution_count": 18,
      "outputs": []
    },
    {
      "cell_type": "code",
      "metadata": {
        "id": "HfEpJk7Tgd2Q",
        "colab_type": "code",
        "colab": {
          "base_uri": "https://localhost:8080/",
          "height": 85
        },
        "outputId": "abd75d91-3989-4feb-a0b0-d59f42eb90da"
      },
      "source": [
        "#Example for sort\n",
        "data = tf.random.normal([10],mean=0,stddev=1)\n",
        "tf.sort(data,direction='DESCENDING')\n",
        "#or\n",
        "tf.gather(data,tf.argsort(data,direction='ASCENDING'))"
      ],
      "execution_count": 19,
      "outputs": [
        {
          "output_type": "execute_result",
          "data": {
            "text/plain": [
              "<tf.Tensor: shape=(10,), dtype=float32, numpy=\n",
              "array([-1.7024577 , -0.37213287, -0.17563649, -0.05438402, -0.04834618,\n",
              "        0.2376566 ,  0.38604498,  0.40747476,  0.6794364 ,  0.8253954 ],\n",
              "      dtype=float32)>"
            ]
          },
          "metadata": {
            "tags": []
          },
          "execution_count": 19
        }
      ]
    },
    {
      "cell_type": "code",
      "metadata": {
        "id": "yA7el5HGgiQW",
        "colab_type": "code",
        "colab": {
          "base_uri": "https://localhost:8080/",
          "height": 68
        },
        "outputId": "e2ef732f-b2da-4c16-c1eb-2b68c32f20f4"
      },
      "source": [
        "#Example top_k\n",
        "top_data = tf.math.top_k(data,k=5)\n",
        "#Get indies or values\n",
        "top_data.indices\n",
        "#or\n",
        "top_data.values"
      ],
      "execution_count": 20,
      "outputs": [
        {
          "output_type": "execute_result",
          "data": {
            "text/plain": [
              "<tf.Tensor: shape=(5,), dtype=float32, numpy=\n",
              "array([0.8253954 , 0.6794364 , 0.40747476, 0.38604498, 0.2376566 ],\n",
              "      dtype=float32)>"
            ]
          },
          "metadata": {
            "tags": []
          },
          "execution_count": 20
        }
      ]
    },
    {
      "cell_type": "code",
      "metadata": {
        "id": "HU6tdhJRhcGv",
        "colab_type": "code",
        "colab": {
          "base_uri": "https://localhost:8080/",
          "height": 136
        },
        "outputId": "c49772bf-a76c-4053-d9f0-be10c3000d2c"
      },
      "source": [
        "data = tf.random.normal([3,3],mean=0,stddev=1)\n",
        "tf.pad(data,[[1,1],[1,1]])"
      ],
      "execution_count": 21,
      "outputs": [
        {
          "output_type": "execute_result",
          "data": {
            "text/plain": [
              "<tf.Tensor: shape=(5, 5), dtype=float32, numpy=\n",
              "array([[ 0.        ,  0.        ,  0.        ,  0.        ,  0.        ],\n",
              "       [ 0.        , -1.7263494 ,  0.8009505 ,  1.4661866 ,  0.        ],\n",
              "       [ 0.        ,  0.441546  , -1.4415514 , -0.03254908,  0.        ],\n",
              "       [ 0.        , -1.0412214 ,  0.7639621 ,  0.9443403 ,  0.        ],\n",
              "       [ 0.        ,  0.        ,  0.        ,  0.        ,  0.        ]],\n",
              "      dtype=float32)>"
            ]
          },
          "metadata": {
            "tags": []
          },
          "execution_count": 21
        }
      ]
    },
    {
      "cell_type": "code",
      "metadata": {
        "id": "XEMcnR5wh9Uw",
        "colab_type": "code",
        "colab": {
          "base_uri": "https://localhost:8080/",
          "height": 85
        },
        "outputId": "382bf9b2-9d63-4364-c7b9-68f077d58cfe"
      },
      "source": [
        "#Example clipping\n",
        "tf.clip_by_value(data,0,1)\n",
        "#range if number less or above fix at 0 or 1"
      ],
      "execution_count": 22,
      "outputs": [
        {
          "output_type": "execute_result",
          "data": {
            "text/plain": [
              "<tf.Tensor: shape=(3, 3), dtype=float32, numpy=\n",
              "array([[0.       , 0.8009505, 1.       ],\n",
              "       [0.441546 , 0.       , 0.       ],\n",
              "       [0.       , 0.7639621, 0.9443403]], dtype=float32)>"
            ]
          },
          "metadata": {
            "tags": []
          },
          "execution_count": 22
        }
      ]
    },
    {
      "cell_type": "code",
      "metadata": {
        "id": "U2PteZ06sScC",
        "colab_type": "code",
        "colab": {
          "base_uri": "https://localhost:8080/",
          "height": 85
        },
        "outputId": "c6057aa1-29b1-4a2b-fdd9-6ab583422746"
      },
      "source": [
        "tf.clip_by_value(data,0,1)"
      ],
      "execution_count": 23,
      "outputs": [
        {
          "output_type": "execute_result",
          "data": {
            "text/plain": [
              "<tf.Tensor: shape=(3, 3), dtype=float32, numpy=\n",
              "array([[0.       , 0.8009505, 1.       ],\n",
              "       [0.441546 , 0.       , 0.       ],\n",
              "       [0.       , 0.7639621, 0.9443403]], dtype=float32)>"
            ]
          },
          "metadata": {
            "tags": []
          },
          "execution_count": 23
        }
      ]
    },
    {
      "cell_type": "code",
      "metadata": {
        "id": "PWdHtdH7s5I-",
        "colab_type": "code",
        "colab": {
          "base_uri": "https://localhost:8080/",
          "height": 102
        },
        "outputId": "75fbae6f-b402-4167-a58d-b3a93eeca577"
      },
      "source": [
        "a = tf.fill([2,2],5)\n",
        "b = tf.fill([2,2],6)\n",
        "a+b,a*b"
      ],
      "execution_count": 24,
      "outputs": [
        {
          "output_type": "execute_result",
          "data": {
            "text/plain": [
              "(<tf.Tensor: shape=(2, 2), dtype=int32, numpy=\n",
              " array([[11, 11],\n",
              "        [11, 11]], dtype=int32)>, <tf.Tensor: shape=(2, 2), dtype=int32, numpy=\n",
              " array([[30, 30],\n",
              "        [30, 30]], dtype=int32)>)"
            ]
          },
          "metadata": {
            "tags": []
          },
          "execution_count": 24
        }
      ]
    },
    {
      "cell_type": "code",
      "metadata": {
        "id": "G0WA6kBRw7do",
        "colab_type": "code",
        "colab": {
          "base_uri": "https://localhost:8080/",
          "height": 34
        },
        "outputId": "6dec33f2-5be9-42c4-c1d6-97e2c68802df"
      },
      "source": [
        "a = tf.fill([2,32,4],5)\n",
        "b = tf.fill([2,4,6],6)\n",
        "(a@b).shape # or tf.matmul(a,b)\n",
        "#Output:TensorShape([2, 32, 6])"
      ],
      "execution_count": 25,
      "outputs": [
        {
          "output_type": "execute_result",
          "data": {
            "text/plain": [
              "TensorShape([2, 32, 6])"
            ]
          },
          "metadata": {
            "tags": []
          },
          "execution_count": 25
        }
      ]
    },
    {
      "cell_type": "code",
      "metadata": {
        "id": "keyFhFklzVWF",
        "colab_type": "code",
        "colab": {}
      },
      "source": [
        "#Example for dimension wise\n",
        "data = [[1,2,3],\n",
        "      [1,2,3]]\n",
        "\n",
        "tf_data = tf.cast(data,tf.float32)\n",
        "\n",
        "mean_all = tf.reduce_mean(tf_data, keepdims=False)\n",
        "mean_0 = tf.reduce_mean(tf_data, axis=0, keepdims=False)\n",
        "mean_1 = tf.reduce_mean(tf_data, axis=1, keepdims=False)"
      ],
      "execution_count": 26,
      "outputs": []
    },
    {
      "cell_type": "code",
      "metadata": {
        "id": "wAECG_w8zYL8",
        "colab_type": "code",
        "colab": {
          "base_uri": "https://localhost:8080/",
          "height": 68
        },
        "outputId": "275fd046-fa0a-435e-a50c-8c6b797135fe"
      },
      "source": [
        "mean_all,mean_0,mean_1"
      ],
      "execution_count": 27,
      "outputs": [
        {
          "output_type": "execute_result",
          "data": {
            "text/plain": [
              "(<tf.Tensor: shape=(), dtype=float32, numpy=2.0>,\n",
              " <tf.Tensor: shape=(3,), dtype=float32, numpy=array([1., 2., 3.], dtype=float32)>,\n",
              " <tf.Tensor: shape=(2,), dtype=float32, numpy=array([2., 2.], dtype=float32)>)"
            ]
          },
          "metadata": {
            "tags": []
          },
          "execution_count": 27
        }
      ]
    },
    {
      "cell_type": "code",
      "metadata": {
        "id": "HqC2Hchw0Ojz",
        "colab_type": "code",
        "colab": {
          "base_uri": "https://localhost:8080/",
          "height": 34
        },
        "outputId": "23fbb59d-303b-463c-99ed-013e35896cb4"
      },
      "source": [
        "x = tf.random.normal([4,40,12])\n",
        "(x + tf.random.normal([40,1])).shape\n",
        "#Output:TensorShape([4, 40, 12])"
      ],
      "execution_count": 28,
      "outputs": [
        {
          "output_type": "execute_result",
          "data": {
            "text/plain": [
              "TensorShape([4, 40, 12])"
            ]
          },
          "metadata": {
            "tags": []
          },
          "execution_count": 28
        }
      ]
    },
    {
      "cell_type": "code",
      "metadata": {
        "id": "pEhLZt6CP4X7",
        "colab_type": "code",
        "colab": {
          "base_uri": "https://localhost:8080/",
          "height": 34
        },
        "outputId": "8868e07a-3d0e-4e31-9646-27ce8d4ec8d6"
      },
      "source": [
        "data_all = tf.split(a,axis=1,num_or_size_splits=2)\n",
        "data_all[0].shape\n",
        "#Output:TensorShape([2, 16, 3])\n",
        "len(data_all)\n",
        "#Output:2"
      ],
      "execution_count": 29,
      "outputs": [
        {
          "output_type": "execute_result",
          "data": {
            "text/plain": [
              "2"
            ]
          },
          "metadata": {
            "tags": []
          },
          "execution_count": 29
        }
      ]
    },
    {
      "cell_type": "code",
      "metadata": {
        "id": "h0bAfx8yztNI",
        "colab_type": "code",
        "colab": {
          "base_uri": "https://localhost:8080/",
          "height": 34
        },
        "outputId": "0a78b4a0-515e-4f0d-e606-5d345074d3ea"
      },
      "source": [
        "a = tf.constant([1,2,3])\n",
        "tf.math.argmax(a)"
      ],
      "execution_count": 30,
      "outputs": [
        {
          "output_type": "execute_result",
          "data": {
            "text/plain": [
              "<tf.Tensor: shape=(), dtype=int64, numpy=2>"
            ]
          },
          "metadata": {
            "tags": []
          },
          "execution_count": 30
        }
      ]
    },
    {
      "cell_type": "code",
      "metadata": {
        "id": "uEOUCAOmzuis",
        "colab_type": "code",
        "colab": {}
      },
      "source": [
        ""
      ],
      "execution_count": null,
      "outputs": []
    }
  ]
}