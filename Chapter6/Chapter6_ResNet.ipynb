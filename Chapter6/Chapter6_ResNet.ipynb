{
  "nbformat": 4,
  "nbformat_minor": 0,
  "metadata": {
    "colab": {
      "name": "Colab_ResNet.ipynb",
      "provenance": [],
      "collapsed_sections": []
    },
    "kernelspec": {
      "name": "python3",
      "display_name": "Python 3"
    },
    "accelerator": "GPU"
  },
  "cells": [
    {
      "cell_type": "code",
      "metadata": {
        "id": "higQtoO2I5Af",
        "colab_type": "code",
        "colab": {}
      },
      "source": [
        "import tensorflow as tf\n",
        "tf.test.gpu_device_name()"
      ],
      "execution_count": null,
      "outputs": []
    },
    {
      "cell_type": "code",
      "metadata": {
        "id": "OVXK5_kreuLy",
        "colab_type": "code",
        "colab": {}
      },
      "source": [
        "import numpy as np\n",
        "import pandas as pd\n",
        "import matplotlib.pyplot as plt\n",
        "\n",
        "import tensorflow as tf\n",
        "from tensorflow import keras\n",
        "from tensorflow.keras import datasets,layers,optimizers,Sequential,metrics"
      ],
      "execution_count": 3,
      "outputs": []
    },
    {
      "cell_type": "code",
      "metadata": {
        "id": "O7ugLMHdfJFi",
        "colab_type": "code",
        "colab": {
          "base_uri": "https://localhost:8080/",
          "height": 105
        },
        "outputId": "db8dcd05-927b-4422-fb92-6526eaaeacda"
      },
      "source": [
        "print(tf.test.is_gpu_available())"
      ],
      "execution_count": 4,
      "outputs": [
        {
          "output_type": "stream",
          "text": [
            "WARNING:tensorflow:From <ipython-input-4-ae932be897c3>:1: is_gpu_available (from tensorflow.python.framework.test_util) is deprecated and will be removed in a future version.\n",
            "Instructions for updating:\n",
            "Use `tf.config.list_physical_devices('GPU')` instead.\n",
            "True\n"
          ],
          "name": "stdout"
        }
      ]
    },
    {
      "cell_type": "code",
      "metadata": {
        "id": "nsNH9kPYmGGf",
        "colab_type": "code",
        "colab": {
          "base_uri": "https://localhost:8080/",
          "height": 35
        },
        "outputId": "39fdd7dd-e7bf-4559-8996-e139e98bec21"
      },
      "source": [
        "tf.__version__"
      ],
      "execution_count": 5,
      "outputs": [
        {
          "output_type": "execute_result",
          "data": {
            "application/vnd.google.colaboratory.intrinsic": {
              "type": "string"
            },
            "text/plain": [
              "'2.1.0'"
            ]
          },
          "metadata": {
            "tags": []
          },
          "execution_count": 5
        }
      ]
    },
    {
      "cell_type": "code",
      "metadata": {
        "id": "wlCHq_T5JBUT",
        "colab_type": "code",
        "colab": {}
      },
      "source": [
        "class ResBlock(layers.Layer):\n",
        "  def __init__(self, filter_nums, strides=1, residual_path=False):\n",
        "      super(ResBlock, self).__init__()\n",
        "\n",
        "      self.conv_1 = layers.Conv2D(filter_nums,(3,3),strides=strides,padding='same')\n",
        "      self.bn_1 = layers.BatchNormalization()\n",
        "      self.act_relu = layers.Activation('relu')\n",
        "\n",
        "      self.conv_2 = layers.Conv2D(filter_nums,(3,3),strides=1,padding='same')\n",
        "      self.bn_2 = layers.BatchNormalization()\n",
        "      \n",
        "      if strides !=1:\n",
        "        self.block = Sequential()\n",
        "        self.block.add(layers.Conv2D(filter_nums,(1,1),strides=strides))\n",
        "      else:\n",
        "        self.block = lambda x:x\n",
        "\n",
        "\n",
        "  def call(self, inputs, training=None):\n",
        "\n",
        "      x = self.conv_1(inputs)\n",
        "      x = self.bn_1(x, training=training)\n",
        "      x = self.act_relu(x)\n",
        "      x = self.conv_2(x)\n",
        "      x = self.bn_2(x,training=training)\n",
        "      \n",
        "      identity = self.block(inputs)\n",
        "      outputs = layers.add([x,identity])\n",
        "      # outputs = layers.add([x])\n",
        "      # outputs = x\n",
        "      outputs = tf.nn.relu(outputs)\n",
        "\n",
        "      return outputs"
      ],
      "execution_count": 6,
      "outputs": []
    },
    {
      "cell_type": "code",
      "metadata": {
        "id": "U_e7Ke5uSOJF",
        "colab_type": "code",
        "colab": {}
      },
      "source": [
        "class ResNet(keras.Model):\n",
        "  def __init__(self,layers_dims,nums_class=10):\n",
        "    super(ResNet,self).__init__()\n",
        "\n",
        "    self.model = Sequential([layers.Conv2D(64,(3,3),strides=(1,1)),\n",
        "                             layers.BatchNormalization(),\n",
        "                             layers.Activation('relu'),\n",
        "                             layers.MaxPooling2D(pool_size=(2,2),strides=(1,1),padding='same')])\n",
        "\n",
        "    self.layer_1 = self.ResNet_build(64,layers_dims[0])\n",
        "    self.layer_2 = self.ResNet_build(128,layers_dims[1],strides=2)   \n",
        "    self.layer_3 = self.ResNet_build(256,layers_dims[2],strides=2) \n",
        "    self.layer_4 = self.ResNet_build(512,layers_dims[3],strides=2)   \n",
        "\n",
        "    self.avg_pool = layers.GlobalAveragePooling2D()                 \n",
        "    self.fc_model = layers.Dense(nums_class)    \n",
        "\n",
        "  def call(self, inputs, training=None):\n",
        "    x = self.model(inputs)\n",
        "    x = self.layer_1(x)\n",
        "    x = self.layer_2(x)  \n",
        "    x = self.layer_3(x) \n",
        "    x = self.layer_4(x)  \n",
        "    x = self.avg_pool(x) \n",
        "    x = self.fc_model(x)\n",
        "    return x\n",
        "\n",
        "  def ResNet_build(self,filter_nums,block_nums,strides=1):\n",
        "    build_model = Sequential()\n",
        "    build_model.add(ResBlock(filter_nums,strides))\n",
        "    for _ in range(1,block_nums):\n",
        "      build_model.add(ResBlock(filter_nums,strides=1))\n",
        "    return build_model"
      ],
      "execution_count": 7,
      "outputs": []
    },
    {
      "cell_type": "code",
      "metadata": {
        "id": "0dAVnpkz2hnK",
        "colab_type": "code",
        "colab": {}
      },
      "source": [
        "def ResNet18():\n",
        "  return ResNet([2,2,2,2])"
      ],
      "execution_count": 8,
      "outputs": []
    },
    {
      "cell_type": "code",
      "metadata": {
        "id": "pxTZ4mfE3JKJ",
        "colab_type": "code",
        "colab": {
          "base_uri": "https://localhost:8080/",
          "height": 68
        },
        "outputId": "26783607-470f-4b8d-d7fc-ec642924c08f"
      },
      "source": [
        "(x,y),(x_test,y_test) = datasets.cifar10.load_data()\n",
        "y = tf.squeeze(y,axis=1)\n",
        "y_test = tf.squeeze(y_test,axis=1)\n",
        "print(x.shape,y.shape)"
      ],
      "execution_count": 9,
      "outputs": [
        {
          "output_type": "stream",
          "text": [
            "Downloading data from https://www.cs.toronto.edu/~kriz/cifar-10-python.tar.gz\n",
            "170500096/170498071 [==============================] - 11s 0us/step\n",
            "(50000, 32, 32, 3) (50000,)\n"
          ],
          "name": "stdout"
        }
      ]
    },
    {
      "cell_type": "code",
      "metadata": {
        "id": "8sI3DvH8NwKc",
        "colab_type": "code",
        "colab": {
          "base_uri": "https://localhost:8080/",
          "height": 68
        },
        "outputId": "a79cb42e-2266-43cf-85ff-e6bd0072b327"
      },
      "source": [
        "(x,y),(x_test,y_test) = datasets.cifar10.load_data()\n",
        "# Squeeze前的資料維度\n",
        "print(y.shape,y_test.shape)\n",
        "# Squeeze後的資料維度\n",
        "y = tf.squeeze(y,axis=1)\n",
        "y_test = tf.squeeze(y_test,axis=1)\n",
        "print(y.shape,y_test.shape)\n",
        "\n",
        "# 最終轉換後的資料維度\n",
        "print(x.shape,y.shape)"
      ],
      "execution_count": 10,
      "outputs": [
        {
          "output_type": "stream",
          "text": [
            "(50000, 1) (10000, 1)\n",
            "(50000,) (10000,)\n",
            "(50000, 32, 32, 3) (50000,)\n"
          ],
          "name": "stdout"
        }
      ]
    },
    {
      "cell_type": "code",
      "metadata": {
        "id": "Px6ipak33tXI",
        "colab_type": "code",
        "colab": {}
      },
      "source": [
        "def feature_scale(x,y):\n",
        "  x = tf.cast(x,dtype=tf.float32)/255.\n",
        "  y = tf.cast(y,dtype=tf.int32)\n",
        "  return x,y"
      ],
      "execution_count": 11,
      "outputs": []
    },
    {
      "cell_type": "code",
      "metadata": {
        "id": "mD899KOK3woK",
        "colab_type": "code",
        "colab": {}
      },
      "source": [
        "ResNet_model = ResNet18()\n",
        "ResNet_model.build(input_shape=(None,32,32,3))\n",
        "optimizer = optimizers.Adam(lr=1e-3)"
      ],
      "execution_count": 12,
      "outputs": []
    },
    {
      "cell_type": "code",
      "metadata": {
        "id": "_eyXb-Qbi8T1",
        "colab_type": "code",
        "colab": {
          "base_uri": "https://localhost:8080/",
          "height": 391
        },
        "outputId": "1e722067-d0c2-4708-c823-ce9f662afa20"
      },
      "source": [
        "ResNet_model.summary()"
      ],
      "execution_count": 13,
      "outputs": [
        {
          "output_type": "stream",
          "text": [
            "Model: \"res_net\"\n",
            "_________________________________________________________________\n",
            "Layer (type)                 Output Shape              Param #   \n",
            "=================================================================\n",
            "sequential (Sequential)      multiple                  2048      \n",
            "_________________________________________________________________\n",
            "sequential_1 (Sequential)    multiple                  148736    \n",
            "_________________________________________________________________\n",
            "sequential_2 (Sequential)    multiple                  526976    \n",
            "_________________________________________________________________\n",
            "sequential_4 (Sequential)    multiple                  2102528   \n",
            "_________________________________________________________________\n",
            "sequential_6 (Sequential)    multiple                  8399360   \n",
            "_________________________________________________________________\n",
            "global_average_pooling2d (Gl multiple                  0         \n",
            "_________________________________________________________________\n",
            "dense (Dense)                multiple                  5130      \n",
            "=================================================================\n",
            "Total params: 11,184,778\n",
            "Trainable params: 11,176,970\n",
            "Non-trainable params: 7,808\n",
            "_________________________________________________________________\n"
          ],
          "name": "stdout"
        }
      ]
    },
    {
      "cell_type": "code",
      "metadata": {
        "id": "L9yQvO9F4BAu",
        "colab_type": "code",
        "colab": {}
      },
      "source": [
        "data = tf.data.Dataset.from_tensor_slices((x,y))\n",
        "data = data.map(feature_scale).shuffle(10000).batch(512)\n",
        "\n",
        "data_test = tf.data.Dataset.from_tensor_slices((x_test,y_test))\n",
        "data_test = data_test.map(feature_scale).batch(512) "
      ],
      "execution_count": 14,
      "outputs": []
    },
    {
      "cell_type": "code",
      "metadata": {
        "id": "iwB7xW_O68VL",
        "colab_type": "code",
        "colab": {
          "base_uri": "https://localhost:8080/",
          "height": 34
        },
        "outputId": "d447ffea-b5f4-4009-cbbd-91d58a0d62ad"
      },
      "source": [
        "data_iter = iter(data)\n",
        "samples = next(data_iter)\n",
        "print(samples[0].shape,samples[1].shape)"
      ],
      "execution_count": 15,
      "outputs": [
        {
          "output_type": "stream",
          "text": [
            "(512, 32, 32, 3) (512,)\n"
          ],
          "name": "stdout"
        }
      ]
    },
    {
      "cell_type": "code",
      "metadata": {
        "id": "8UIwkhdn6-6z",
        "colab_type": "code",
        "colab": {
          "base_uri": "https://localhost:8080/",
          "height": 357
        },
        "outputId": "c0cb730f-d2db-41d9-f383-694c9c5e7b7a"
      },
      "source": [
        "for i in range(10):\n",
        "  for step,(x,y) in enumerate(data):\n",
        "    with tf.GradientTape() as tape:\n",
        "      logits = ResNet_model(x)\n",
        "      y_one_hot = tf.one_hot(y,depth=10)\n",
        "      loss = tf.losses.categorical_crossentropy(y_one_hot,logits,from_logits=True)\n",
        "      loss = tf.reduce_mean(loss)\n",
        "    grads = tape.gradient(loss,ResNet_model.trainable_variables)\n",
        "    optimizer.apply_gradients(zip(grads,ResNet_model.trainable_variables))\n",
        "    \n",
        "    if step %100==0:\n",
        "      print(i,step,'loss:',float(loss))\n",
        "  total_loss = 0\n",
        "  total_num=0\n",
        "  for x,y in data_test:\n",
        "\n",
        "    logits = ResNet_model(x)\n",
        "    \n",
        "    prob = tf.nn.softmax(logits,axis=1)\n",
        "    pred = tf.argmax(prob,axis=1)\n",
        "\n",
        "    pred = tf.cast(pred,dtype=tf.int32)\n",
        "    correct = tf.equal(pred,y)\n",
        "\n",
        "    result = tf.reduce_sum(tf.cast(correct,dtype=tf.int32))\n",
        "\n",
        "    total_loss += int(result)\n",
        "    total_num += x.shape[0]\n",
        "\n",
        "  acc = total_loss/total_num\n",
        "  print(i,'acc:',acc)"
      ],
      "execution_count": 16,
      "outputs": [
        {
          "output_type": "stream",
          "text": [
            "0 0 loss: 2.3052592277526855\n",
            "0 acc: 0.3157\n",
            "1 0 loss: 1.8333091735839844\n",
            "1 acc: 0.4506\n",
            "2 0 loss: 1.4909344911575317\n",
            "2 acc: 0.544\n",
            "3 0 loss: 1.2291452884674072\n",
            "3 acc: 0.578\n",
            "4 0 loss: 1.1379151344299316\n",
            "4 acc: 0.65\n",
            "5 0 loss: 0.8637693524360657\n",
            "5 acc: 0.6701\n",
            "6 0 loss: 0.6892322301864624\n",
            "6 acc: 0.6776\n",
            "7 0 loss: 0.5811546444892883\n",
            "7 acc: 0.6863\n",
            "8 0 loss: 0.3595947027206421\n",
            "8 acc: 0.6864\n",
            "9 0 loss: 0.24096521735191345\n",
            "9 acc: 0.6701\n"
          ],
          "name": "stdout"
        }
      ]
    },
    {
      "cell_type": "code",
      "metadata": {
        "id": "UmL2-HAA7thx",
        "colab_type": "code",
        "colab": {
          "base_uri": "https://localhost:8080/",
          "height": 34
        },
        "outputId": "9d1ed812-f71a-4ac4-ecfd-653436708b41"
      },
      "source": [
        "total_loss = 0\n",
        "total_num=0\n",
        "for x,y in data_test:\n",
        "\n",
        "  gd = ResNet_model(x)\n",
        "  prob = tf.nn.softmax(gd,axis=1)\n",
        "  pred = tf.argmax(prob,axis=1)\n",
        "  \n",
        "  pred = tf.cast(pred,dtype=tf.int32)\n",
        "  correct = tf.equal(pred,y)\n",
        "  \n",
        "  result = tf.reduce_sum(tf.cast(correct,dtype=tf.int32))\n",
        "  \n",
        "  total_loss += int(result)\n",
        "  total_num += x.shape[0]\n",
        "  \n",
        "acc = total_loss/total_num\n",
        "print(acc)"
      ],
      "execution_count": 17,
      "outputs": [
        {
          "output_type": "stream",
          "text": [
            "0.6701\n"
          ],
          "name": "stdout"
        }
      ]
    },
    {
      "cell_type": "code",
      "metadata": {
        "id": "HLHQ4ihxhd_L",
        "colab_type": "code",
        "colab": {}
      },
      "source": [
        ""
      ],
      "execution_count": 17,
      "outputs": []
    }
  ]
}