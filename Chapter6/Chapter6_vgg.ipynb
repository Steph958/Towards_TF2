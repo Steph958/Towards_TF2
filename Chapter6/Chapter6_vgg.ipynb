{
  "nbformat": 4,
  "nbformat_minor": 0,
  "metadata": {
    "colab": {
      "name": "vgg_cifar10.ipynb",
      "provenance": [],
      "collapsed_sections": []
    },
    "kernelspec": {
      "name": "python3",
      "display_name": "Python 3"
    },
    "accelerator": "GPU"
  },
  "cells": [
    {
      "cell_type": "code",
      "metadata": {
        "id": "iCBXVZMFaDRv",
        "colab_type": "code",
        "colab": {
          "base_uri": "https://localhost:8080/",
          "height": 35
        },
        "outputId": "66cd4778-937a-4582-9656-900d575a562c"
      },
      "source": [
        "import tensorflow as tf\n",
        "tf.test.gpu_device_name()"
      ],
      "execution_count": 1,
      "outputs": [
        {
          "output_type": "execute_result",
          "data": {
            "application/vnd.google.colaboratory.intrinsic": {
              "type": "string"
            },
            "text/plain": [
              "'/device:GPU:0'"
            ]
          },
          "metadata": {
            "tags": []
          },
          "execution_count": 1
        }
      ]
    },
    {
      "cell_type": "code",
      "metadata": {
        "id": "qCaFaKFdgovg",
        "colab_type": "code",
        "colab": {}
      },
      "source": [
        "import numpy as np\n",
        "import pandas as pd\n",
        "from sklearn import preprocessing\n",
        "import tensorflow as tf\n",
        "import matplotlib.pyplot as plt\n",
        "from tensorflow.keras import datasets,layers,optimizers,Sequential,metrics"
      ],
      "execution_count": 2,
      "outputs": []
    },
    {
      "cell_type": "code",
      "metadata": {
        "id": "JS4QApCLgNq7",
        "colab_type": "code",
        "colab": {
          "base_uri": "https://localhost:8080/",
          "height": 34
        },
        "outputId": "4ee5c5a4-2a0f-4af1-9a44-4befb2df5ee8"
      },
      "source": [
        "print(tf.__version__)"
      ],
      "execution_count": 3,
      "outputs": [
        {
          "output_type": "stream",
          "text": [
            "2.2.0\n"
          ],
          "name": "stdout"
        }
      ]
    },
    {
      "cell_type": "code",
      "metadata": {
        "id": "oWSbvn46aJL3",
        "colab_type": "code",
        "colab": {
          "base_uri": "https://localhost:8080/",
          "height": 68
        },
        "outputId": "1d8b1807-5f68-4e90-b19d-a6827b30e29e"
      },
      "source": [
        "(x,y),(x_test,y_test) = datasets.cifar10.load_data()\n",
        "y = tf.squeeze(y,axis=1)\n",
        "y_test = tf.squeeze(y_test,axis=1)\n",
        "print(x.shape,y.shape)"
      ],
      "execution_count": 4,
      "outputs": [
        {
          "output_type": "stream",
          "text": [
            "Downloading data from https://www.cs.toronto.edu/~kriz/cifar-10-python.tar.gz\n",
            "170500096/170498071 [==============================] - 6s 0us/step\n",
            "(50000, 32, 32, 3) (50000,)\n"
          ],
          "name": "stdout"
        }
      ]
    },
    {
      "cell_type": "code",
      "metadata": {
        "id": "oVkyy30faNbz",
        "colab_type": "code",
        "colab": {
          "base_uri": "https://localhost:8080/",
          "height": 34
        },
        "outputId": "c1431e9e-6285-43e2-d88b-2fb7516b89ad"
      },
      "source": [
        "print(x.shape,y.shape)"
      ],
      "execution_count": 5,
      "outputs": [
        {
          "output_type": "stream",
          "text": [
            "(50000, 32, 32, 3) (50000,)\n"
          ],
          "name": "stdout"
        }
      ]
    },
    {
      "cell_type": "code",
      "metadata": {
        "id": "5Zqt04nFaRIC",
        "colab_type": "code",
        "colab": {
          "base_uri": "https://localhost:8080/",
          "height": 266
        },
        "outputId": "3b5166c8-5317-4ab8-c815-9a010f33e619"
      },
      "source": [
        "plt.figure()\n",
        "plt.imshow(x[0])\n",
        "plt.colorbar()\n",
        "plt.grid(False)"
      ],
      "execution_count": 6,
      "outputs": [
        {
          "output_type": "display_data",
          "data": {
            "image/png": "[encoded data removed]",
            "text/plain": [
              "<Figure size 432x288 with 2 Axes>"
            ]
          },
          "metadata": {
            "tags": [],
            "needs_background": "light"
          }
        }
      ]
    },
    {
      "cell_type": "code",
      "metadata": {
        "id": "8PQVg6iIfiMy",
        "colab_type": "code",
        "colab": {}
      },
      "source": [
        "def feature_scale(x,y):\n",
        "  x = tf.cast(x,dtype=tf.float32)/255.\n",
        "  y = tf.cast(y,dtype=tf.int32)\n",
        "  return x,y"
      ],
      "execution_count": 7,
      "outputs": []
    },
    {
      "cell_type": "code",
      "metadata": {
        "id": "0akiLt9OaSuQ",
        "colab_type": "code",
        "colab": {}
      },
      "source": [
        "# 利用keras建構VGG16的隱藏層\n",
        "vgg_layers_16 = [\n",
        "    #stack1\n",
        "    layers.Conv2D(64,kernel_size=[3,3],padding='same',activation=tf.nn.relu),\n",
        "    layers.Conv2D(64,kernel_size=[3,3],padding='same',activation=tf.nn.relu),\n",
        "    layers.MaxPool2D(pool_size=[2,2],strides=2,padding='same'),\n",
        "    #stack2\n",
        "    layers.Conv2D(128,kernel_size=[3,3],padding='same',activation=tf.nn.relu),\n",
        "    layers.Conv2D(128,kernel_size=[3,3],padding='same',activation=tf.nn.relu),\n",
        "    layers.MaxPool2D(pool_size=[2,2],strides=2,padding='same'),\n",
        "    #stack3\n",
        "    layers.Conv2D(256,kernel_size=[3,3],padding='same',activation=tf.nn.relu),\n",
        "    layers.Conv2D(256,kernel_size=[3,3],padding='same',activation=tf.nn.relu),\n",
        "    layers.Conv2D(256,kernel_size=[1,1],padding='same',activation=tf.nn.relu),\n",
        "    layers.MaxPool2D(pool_size=[2,2],strides=2,padding='same'),\n",
        "    #stack4\n",
        "    layers.Conv2D(512,kernel_size=[3,3],padding='same',activation=tf.nn.relu),\n",
        "    layers.Conv2D(512,kernel_size=[3,3],padding='same',activation=tf.nn.relu),\n",
        "    layers.Conv2D(512,kernel_size=[1,1],padding='same',activation=tf.nn.relu),\n",
        "    layers.MaxPool2D(pool_size=[2,2],strides=2,padding='same'),    \n",
        "    #stack5\n",
        "    layers.Conv2D(512,kernel_size=[3,3],padding='same',activation=tf.nn.relu),\n",
        "    layers.Conv2D(512,kernel_size=[3,3],padding='same',activation=tf.nn.relu),\n",
        "    layers.Conv2D(512,kernel_size=[1,1],padding='same',activation=tf.nn.relu),\n",
        "    layers.MaxPool2D(pool_size=[2,2],strides=2,padding='same')\n",
        "]\n",
        "# 此處全連接層與論文所建置的有所不同，因考量參數量\n",
        "fc_layers =[\n",
        "    layers.Dense(256,activation=tf.nn.relu),\n",
        "    layers.Dense(256,activation=tf.nn.relu),\n",
        "    layers.Dense(10,activation=None),\n",
        "]"
      ],
      "execution_count": 8,
      "outputs": []
    },
    {
      "cell_type": "code",
      "metadata": {
        "id": "4KFSM-j-cN7q",
        "colab_type": "code",
        "colab": {}
      },
      "source": [
        "vgg_16 = Sequential(vgg_layers_16)\n",
        "vgg_16.build(input_shape=[None,32,32,3])\n",
        "fc = Sequential(fc_layers)\n",
        "fc.build(input_shape=[None,512])\n",
        "\n",
        "optimizer = optimizers.Adam(lr=0.0001)"
      ],
      "execution_count": 9,
      "outputs": []
    },
    {
      "cell_type": "code",
      "metadata": {
        "id": "sAbMkxdSchM2",
        "colab_type": "code",
        "colab": {}
      },
      "source": [
        "data = tf.data.Dataset.from_tensor_slices((x,y))\n",
        "data = data.map(feature_scale).shuffle(10000).batch(256)\n",
        "\n",
        "data_test = tf.data.Dataset.from_tensor_slices((x_test,y_test))\n",
        "data_test = data_test.map(feature_scale).batch(256) "
      ],
      "execution_count": 10,
      "outputs": []
    },
    {
      "cell_type": "code",
      "metadata": {
        "id": "1KMjVPHBfw17",
        "colab_type": "code",
        "colab": {
          "base_uri": "https://localhost:8080/",
          "height": 34
        },
        "outputId": "77c25b2d-ee56-469d-e8ee-517fbcd49e1e"
      },
      "source": [
        "data_iter = iter(data)\n",
        "samples = next(data_iter)\n",
        "print(samples[0].shape,samples[1].shape)"
      ],
      "execution_count": 11,
      "outputs": [
        {
          "output_type": "stream",
          "text": [
            "(256, 32, 32, 3) (256,)\n"
          ],
          "name": "stdout"
        }
      ]
    },
    {
      "cell_type": "code",
      "metadata": {
        "id": "pFKk05yigz6y",
        "colab_type": "code",
        "colab": {
          "base_uri": "https://localhost:8080/",
          "height": 765
        },
        "outputId": "dc598460-85c5-4fd9-ca71-11b144459a71"
      },
      "source": [
        "# 查看模型架構\n",
        "vgg_16.summary()"
      ],
      "execution_count": 12,
      "outputs": [
        {
          "output_type": "stream",
          "text": [
            "Model: \"sequential\"\n",
            "_________________________________________________________________\n",
            "Layer (type)                 Output Shape              Param #   \n",
            "=================================================================\n",
            "conv2d (Conv2D)              multiple                  1792      \n",
            "_________________________________________________________________\n",
            "conv2d_1 (Conv2D)            multiple                  36928     \n",
            "_________________________________________________________________\n",
            "max_pooling2d (MaxPooling2D) multiple                  0         \n",
            "_________________________________________________________________\n",
            "conv2d_2 (Conv2D)            multiple                  73856     \n",
            "_________________________________________________________________\n",
            "conv2d_3 (Conv2D)            multiple                  147584    \n",
            "_________________________________________________________________\n",
            "max_pooling2d_1 (MaxPooling2 multiple                  0         \n",
            "_________________________________________________________________\n",
            "conv2d_4 (Conv2D)            multiple                  295168    \n",
            "_________________________________________________________________\n",
            "conv2d_5 (Conv2D)            multiple                  590080    \n",
            "_________________________________________________________________\n",
            "conv2d_6 (Conv2D)            multiple                  65792     \n",
            "_________________________________________________________________\n",
            "max_pooling2d_2 (MaxPooling2 multiple                  0         \n",
            "_________________________________________________________________\n",
            "conv2d_7 (Conv2D)            multiple                  1180160   \n",
            "_________________________________________________________________\n",
            "conv2d_8 (Conv2D)            multiple                  2359808   \n",
            "_________________________________________________________________\n",
            "conv2d_9 (Conv2D)            multiple                  262656    \n",
            "_________________________________________________________________\n",
            "max_pooling2d_3 (MaxPooling2 multiple                  0         \n",
            "_________________________________________________________________\n",
            "conv2d_10 (Conv2D)           multiple                  2359808   \n",
            "_________________________________________________________________\n",
            "conv2d_11 (Conv2D)           multiple                  2359808   \n",
            "_________________________________________________________________\n",
            "conv2d_12 (Conv2D)           multiple                  262656    \n",
            "_________________________________________________________________\n",
            "max_pooling2d_4 (MaxPooling2 multiple                  0         \n",
            "=================================================================\n",
            "Total params: 9,996,096\n",
            "Trainable params: 9,996,096\n",
            "Non-trainable params: 0\n",
            "_________________________________________________________________\n"
          ],
          "name": "stdout"
        }
      ]
    },
    {
      "cell_type": "code",
      "metadata": {
        "id": "K-o0AG1egC7U",
        "colab_type": "code",
        "colab": {
          "base_uri": "https://localhost:8080/",
          "height": 527
        },
        "outputId": "88d02b77-b89b-48d8-a0f6-24811fd809f7"
      },
      "source": [
        "variables = vgg_16.trainable_variables + fc.trainable_variables\n",
        "for i in range(10):\n",
        "  for step,(x,y) in enumerate(data):\n",
        "    with tf.GradientTape() as tape:\n",
        "      logits = vgg_16(x)\n",
        "      logits = tf.reshape(logits,[-1,512])\n",
        "      logits = fc(logits)\n",
        "      y_one_hot = tf.one_hot(y,depth=10)\n",
        "      loss = tf.losses.categorical_crossentropy(y_one_hot,logits,from_logits=True)\n",
        "      loss = tf.reduce_mean(loss)\n",
        "    grads = tape.gradient(loss,variables)\n",
        "    optimizer.apply_gradients(zip(grads,variables))\n",
        "    \n",
        "    if step %100==0:\n",
        "      print('Epoch: ',i,'\\tStep: ',step,'\\tloss: ',float(loss))\n",
        "  total_loss = 0\n",
        "  total_num=0\n",
        "  for x,y in data_test:\n",
        "\n",
        "    logits = vgg_16(x)\n",
        "    logits = tf.reshape(logits,[-1,512])\n",
        "\n",
        "    logits = fc(logits)\n",
        "    prob = tf.nn.softmax(logits,axis=1)\n",
        "    pred = tf.argmax(prob,axis=1)\n",
        "\n",
        "    pred = tf.cast(pred,dtype=tf.int32)\n",
        "    correct = tf.equal(pred,y)\n",
        "\n",
        "    result = tf.reduce_sum(tf.cast(correct,dtype=tf.int32))\n",
        "\n",
        "    total_loss += int(result)\n",
        "    total_num += x.shape[0]\n",
        "\n",
        "  acc = total_loss/total_num\n",
        "  print(i,'acc:',acc)"
      ],
      "execution_count": 13,
      "outputs": [
        {
          "output_type": "stream",
          "text": [
            "Epoch:  0 \tStep:  0 \tloss:  2.3026301860809326\n",
            "Epoch:  0 \tStep:  100 \tloss:  1.895308017730713\n",
            "0 acc: 0.3609\n",
            "Epoch:  1 \tStep:  0 \tloss:  1.771487832069397\n",
            "Epoch:  1 \tStep:  100 \tloss:  1.4926618337631226\n",
            "1 acc: 0.4647\n",
            "Epoch:  2 \tStep:  0 \tloss:  1.5041356086730957\n",
            "Epoch:  2 \tStep:  100 \tloss:  1.3773057460784912\n",
            "2 acc: 0.5226\n",
            "Epoch:  3 \tStep:  0 \tloss:  1.2572002410888672\n",
            "Epoch:  3 \tStep:  100 \tloss:  1.2172914743423462\n",
            "3 acc: 0.5573\n",
            "Epoch:  4 \tStep:  0 \tloss:  1.0267354249954224\n",
            "Epoch:  4 \tStep:  100 \tloss:  1.0389385223388672\n",
            "4 acc: 0.5936\n",
            "Epoch:  5 \tStep:  0 \tloss:  1.1118353605270386\n",
            "Epoch:  5 \tStep:  100 \tloss:  1.0769352912902832\n",
            "5 acc: 0.6173\n",
            "Epoch:  6 \tStep:  0 \tloss:  0.9449236392974854\n",
            "Epoch:  6 \tStep:  100 \tloss:  0.9207368493080139\n",
            "6 acc: 0.6336\n",
            "Epoch:  7 \tStep:  0 \tloss:  0.9314299821853638\n",
            "Epoch:  7 \tStep:  100 \tloss:  0.7609655261039734\n",
            "7 acc: 0.6668\n",
            "Epoch:  8 \tStep:  0 \tloss:  0.7395167946815491\n",
            "Epoch:  8 \tStep:  100 \tloss:  0.940848171710968\n",
            "8 acc: 0.6769\n",
            "Epoch:  9 \tStep:  0 \tloss:  0.7750471830368042\n",
            "Epoch:  9 \tStep:  100 \tloss:  0.8363233804702759\n",
            "9 acc: 0.687\n"
          ],
          "name": "stdout"
        }
      ]
    },
    {
      "cell_type": "code",
      "metadata": {
        "id": "I3rFaM9ahUbr",
        "colab_type": "code",
        "colab": {}
      },
      "source": [
        "total_loss = 0\n",
        "total_num=0\n",
        "for x,y in data_test:\n",
        "  \n",
        "  logits = vgg_16(x)\n",
        "  logits = tf.reshape(logits,[-1,512])\n",
        "  \n",
        "  logits = fc(logits)\n",
        "  prob = tf.nn.softmax(logits,axis=1)\n",
        "  pred = tf.argmax(prob,axis=1)\n",
        "  \n",
        "  pred = tf.cast(pred,dtype=tf.int32)\n",
        "  correct = tf.equal(pred,y)\n",
        "  \n",
        "  result = tf.reduce_sum(tf.cast(correct,dtype=tf.int32))\n",
        "  \n",
        "  total_loss += int(result)\n",
        "  total_num += x.shape[0]\n",
        "  \n",
        "acc = total_loss/total_num"
      ],
      "execution_count": 15,
      "outputs": []
    },
    {
      "cell_type": "code",
      "metadata": {
        "id": "bF-eQlXwIuYJ",
        "colab_type": "code",
        "colab": {
          "base_uri": "https://localhost:8080/",
          "height": 34
        },
        "outputId": "f4eff932-7b15-44e0-d6ff-4dfb0d209e0d"
      },
      "source": [
        "acc"
      ],
      "execution_count": 16,
      "outputs": [
        {
          "output_type": "execute_result",
          "data": {
            "text/plain": [
              "0.687"
            ]
          },
          "metadata": {
            "tags": []
          },
          "execution_count": 16
        }
      ]
    },
    {
      "cell_type": "code",
      "metadata": {
        "id": "PVd2vecADUTR",
        "colab_type": "code",
        "colab": {}
      },
      "source": [
        ""
      ],
      "execution_count": null,
      "outputs": []
    }
  ]
}