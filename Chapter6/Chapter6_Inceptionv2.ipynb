{
  "nbformat": 4,
  "nbformat_minor": 0,
  "metadata": {
    "colab": {
      "name": "Colab_Inceptionv2.ipynb",
      "provenance": [],
      "collapsed_sections": [],
      "machine_shape": "hm"
    },
    "kernelspec": {
      "name": "python3",
      "display_name": "Python 3"
    },
    "accelerator": "GPU"
  },
  "cells": [
    {
      "cell_type": "code",
      "metadata": {
        "id": "CqEKlvg9kjX-",
        "colab_type": "code",
        "colab": {
          "base_uri": "https://localhost:8080/",
          "height": 35
        },
        "outputId": "5ebb4eb8-dd15-4367-8822-2a779ccd7b80"
      },
      "source": [
        "import tensorflow as tf\n",
        "tf.test.gpu_device_name()"
      ],
      "execution_count": 2,
      "outputs": [
        {
          "output_type": "execute_result",
          "data": {
            "application/vnd.google.colaboratory.intrinsic": {
              "type": "string"
            },
            "text/plain": [
              "'/device:GPU:0'"
            ]
          },
          "metadata": {
            "tags": []
          },
          "execution_count": 2
        }
      ]
    },
    {
      "cell_type": "code",
      "metadata": {
        "id": "q1JTiN6vkrPG",
        "colab_type": "code",
        "colab": {}
      },
      "source": [
        "# import required package\n",
        "\n",
        "import os\n",
        "import warnings\n",
        "\n",
        "warnings.filterwarnings(\"ignore\")\n",
        "os.environ['TF_CPP_MIN_LOG_LEVEL'] = '2'\n",
        "\n",
        "import numpy as np\n",
        "import pandas as pd\n",
        "\n",
        "from sklearn import preprocessing\n",
        "from tensorflow.keras import datasets, layers, optimizers, Sequential, metrics\n",
        "from tensorflow import keras\n",
        "import tensorflow as tf\n",
        "\n",
        "import matplotlib.pyplot as plt"
      ],
      "execution_count": 3,
      "outputs": []
    },
    {
      "cell_type": "code",
      "metadata": {
        "id": "NydYlTlBme1K",
        "colab_type": "code",
        "colab": {
          "base_uri": "https://localhost:8080/",
          "height": 51
        },
        "outputId": "0d52c85c-3753-4631-f50e-663c39497e7f"
      },
      "source": [
        "(x,y),(x_test,y_test) = datasets.mnist.load_data()\n",
        "# 確認訓練資料維度\n",
        "print(x.shape,y.shape)\n",
        "# 確認測試資料維度\n",
        "print(x_test.shape,y_test.shape)"
      ],
      "execution_count": 4,
      "outputs": [
        {
          "output_type": "stream",
          "text": [
            "(60000, 28, 28) (60000,)\n",
            "(10000, 28, 28) (10000,)\n"
          ],
          "name": "stdout"
        }
      ]
    },
    {
      "cell_type": "code",
      "metadata": {
        "id": "rQJUaXceWMrh",
        "colab_type": "code",
        "colab": {}
      },
      "source": [
        ""
      ],
      "execution_count": 4,
      "outputs": []
    },
    {
      "cell_type": "code",
      "metadata": {
        "id": "Lk3uAfJhnFO0",
        "colab_type": "code",
        "colab": {}
      },
      "source": [
        "# 進行資料數值調整\n",
        "def feature_scale(x,y):\n",
        "  x = tf.cast(x,dtype=tf.float32)/255.\n",
        "  y = tf.cast(y,dtype=tf.int32)\n",
        "  return x,y"
      ],
      "execution_count": 5,
      "outputs": []
    },
    {
      "cell_type": "code",
      "metadata": {
        "id": "suQEhUonnRAi",
        "colab_type": "code",
        "colab": {
          "base_uri": "https://localhost:8080/",
          "height": 265
        },
        "outputId": "33eb8649-137c-4630-bd07-1f5ee602f8c4"
      },
      "source": [
        "plt.figure()\n",
        "plt.imshow(x[1])\n",
        "plt.colorbar()\n",
        "plt.grid(False)"
      ],
      "execution_count": 6,
      "outputs": [
        {
          "output_type": "display_data",
          "data": {
            "image/png": "[encoded data removed]",
            "text/plain": [
              "<Figure size 432x288 with 2 Axes>"
            ]
          },
          "metadata": {
            "tags": [],
            "needs_background": "light"
          }
        }
      ]
    },
    {
      "cell_type": "code",
      "metadata": {
        "id": "1YkYU-uyoemM",
        "colab_type": "code",
        "colab": {}
      },
      "source": [
        "x = tf.expand_dims(x,axis=3)\n",
        "x_test = tf.expand_dims(x_test,axis=3)\n",
        "# 做成訓練及測試用資料集\n",
        "train_data = tf.data.Dataset.from_tensor_slices((x,y))\n",
        "train_data = train_data.map(feature_scale).shuffle(10000).batch(512)\n",
        "\n",
        "data_test = tf.data.Dataset.from_tensor_slices((x_test,y_test))\n",
        "data_test = data_test.map(feature_scale).batch(512) "
      ],
      "execution_count": 7,
      "outputs": []
    },
    {
      "cell_type": "code",
      "metadata": {
        "id": "vhWsVWimokcc",
        "colab_type": "code",
        "colab": {
          "base_uri": "https://localhost:8080/",
          "height": 34
        },
        "outputId": "4023930f-5531-4694-e732-427382846a44"
      },
      "source": [
        "# 檢查資料集格式\n",
        "data_iter = iter(train_data)\n",
        "samples = next(data_iter)\n",
        "print(samples[0].shape,samples[1].shape)"
      ],
      "execution_count": 8,
      "outputs": [
        {
          "output_type": "stream",
          "text": [
            "(512, 28, 28, 1) (512,)\n"
          ],
          "name": "stdout"
        }
      ]
    },
    {
      "cell_type": "code",
      "metadata": {
        "id": "cIBd9r9WnT4T",
        "colab_type": "code",
        "colab": {}
      },
      "source": [
        "# 建構卷積層加上Batch Normalization\n",
        "class ConvBNRelu(keras.Model):\n",
        "    def __init__(self, channel_num, kernelsize=(3, 3), strides=1, padding='SAME'):\n",
        "        super(ConvBNRelu, self).__init__()\n",
        "        self.model = Sequential([\n",
        "            layers.Conv2D(channel_num, kernelsize, strides=strides, padding=padding),\n",
        "            layers.BatchNormalization(),   # 增加Batch Normalization\n",
        "            layers.ReLU()\n",
        "        ])\n",
        "\n",
        "    def call(self, inputs, training=None):\n",
        "        inputs = self.model(inputs, training=training)\n",
        "        return inputs\n",
        "\n",
        "# 建構Inception的結構\n",
        "class Inceptionblock(keras.Model):\n",
        "    def __init__(self, channel_num, strides=1):\n",
        "        super(Inceptionblock, self).__init__()\n",
        "\n",
        "        self.channel_num = channel_num\n",
        "        self.strides = strides\n",
        "\n",
        "        self.conv1 = ConvBNRelu(channel_num, strides=strides)\n",
        "        self.conv2 = ConvBNRelu(channel_num, kernelsize=(3, 3), strides=strides)\n",
        "        self.conv3 = ConvBNRelu(channel_num, kernelsize=(3, 3), strides=strides)\n",
        "        self.conv4 = ConvBNRelu(channel_num, kernelsize=(3, 3), strides=1)\n",
        "\n",
        "        self.pool = keras.layers.MaxPooling2D(3, strides=1, padding='SAME')\n",
        "        self.pool_conv = ConvBNRelu(channel_num, strides=strides)\n",
        "\n",
        "    def call(self, inputs, training=None):\n",
        "\n",
        "        x1 = self.conv1(inputs, training=training)\n",
        "\n",
        "        x2 = self.conv2(inputs, training=training)\n",
        "\n",
        "        x3 = self.conv3(inputs, training=training)\n",
        "        x4 = self.conv4(x3, training=training)\n",
        "\n",
        "        x5 = self.pool(inputs)\n",
        "        x5 = self.pool_conv(x5, training=training)\n",
        "        # 將四個卷積核疊加在一起\n",
        "        x = tf.concat([x1, x2, x4, x5], axis=3)\n",
        "\n",
        "        return x\n",
        "\n",
        "\n",
        "class GoogleNet(keras.Model):\n",
        "    def __init__(self, num_layers, num_classes, init_channel=16, **kwargs):\n",
        "        super(GoogleNet, self).__init__(**kwargs)\n",
        "\n",
        "        self.input_channel = init_channel\n",
        "        self.output_channel = init_channel\n",
        "        self.num_classes = num_classes\n",
        "        self.init_channel = init_channel\n",
        "\n",
        "        self.conv1 = ConvBNRelu(init_channel)\n",
        "        self.blocks = Sequential(name='dynamic-blocks')\n",
        "\n",
        "        for block_id in range(num_layers):\n",
        "            for layer_id in range(2):\n",
        "                if layer_id == 0:\n",
        "                    block = Inceptionblock(self.output_channel, strides=2)\n",
        "                else:\n",
        "                    block = Inceptionblock(self.output_channel, strides=1)\n",
        "\n",
        "                self.blocks.add(block)\n",
        "            # Increase output dimension per block\n",
        "            self.output_channel *= 2\n",
        "\n",
        "        self.avg_pool = keras.layers.GlobalAveragePooling2D()\n",
        "        self.fc = keras.layers.Dense(num_classes)\n",
        "\n",
        "    def call(self, inputs, training=None):\n",
        "        out = self.conv1(inputs, training=None)\n",
        "        out = self.blocks(out, training=None)\n",
        "        out = self.avg_pool(out)\n",
        "        out = self.fc(out)\n",
        "\n",
        "        return out"
      ],
      "execution_count": 9,
      "outputs": []
    },
    {
      "cell_type": "code",
      "metadata": {
        "id": "U2af9fggoScm",
        "colab_type": "code",
        "colab": {}
      },
      "source": [
        "# 先建置 Inception 模型\n",
        "Inception = GoogleNet(5, 10)\n",
        "Inception.build(input_shape=(None, 28, 28, 1))\n",
        "# 優化器選擇Adam\n",
        "optimizers = keras.optimizers.Adam(learning_rate=1e-3)"
      ],
      "execution_count": 10,
      "outputs": []
    },
    {
      "cell_type": "code",
      "metadata": {
        "id": "TaQK4tY0pJgy",
        "colab_type": "code",
        "colab": {
          "base_uri": "https://localhost:8080/",
          "height": 289
        },
        "outputId": "43241a1e-ecfe-44de-c926-5ad33f5da9e1"
      },
      "source": [
        " # 查看模型架構\n",
        "Inception.summary()"
      ],
      "execution_count": 11,
      "outputs": [
        {
          "output_type": "stream",
          "text": [
            "Model: \"google_net\"\n",
            "_________________________________________________________________\n",
            "Layer (type)                 Output Shape              Param #   \n",
            "=================================================================\n",
            "conv_bn_relu (ConvBNRelu)    multiple                  224       \n",
            "_________________________________________________________________\n",
            "dynamic-blocks (Sequential)  multiple                  20442848  \n",
            "_________________________________________________________________\n",
            "global_average_pooling2d (Gl multiple                  0         \n",
            "_________________________________________________________________\n",
            "dense (Dense)                multiple                  10250     \n",
            "=================================================================\n",
            "Total params: 20,453,322\n",
            "Trainable params: 20,443,370\n",
            "Non-trainable params: 9,952\n",
            "_________________________________________________________________\n"
          ],
          "name": "stdout"
        }
      ]
    },
    {
      "cell_type": "code",
      "metadata": {
        "id": "qlGZDzujo4ps",
        "colab_type": "code",
        "colab": {
          "base_uri": "https://localhost:8080/",
          "height": 867
        },
        "outputId": "141dd9f7-ff74-4951-f711-8addf803896c"
      },
      "source": [
        "EPOCHS = 10\n",
        "for i in range(EPOCHS):    \n",
        "    for step, (x, y) in enumerate(train_data):\n",
        "        with tf.GradientTape() as tape:\n",
        "            logits = Inception(x)\n",
        "            y_onehot = tf.one_hot(y, depth=10)\n",
        "            loss = tf.losses.categorical_crossentropy(y_onehot, logits, from_logits=True)\n",
        "            loss = tf.reduce_mean(loss)\n",
        "\n",
        "        grads = tape.gradient(loss, Inception.trainable_variables)\n",
        "        optimizers.apply_gradients(zip(grads, Inception.trainable_variables))\n",
        "        # 每100步檢查loss\n",
        "        if step % 100 == 0:\n",
        "            print('Epoch:', i, 'Step: ', step, '\\n', 'Loss = ', float(loss))\n",
        " \n",
        "  # 每訓練一個EPOCHS後用測試資料集驗證準確度\n",
        "    total_num = 0\n",
        "    total_correct = 0\n",
        "\n",
        "    for x, y in data_test:\n",
        "          logits = Inception(x)\n",
        "          prob = tf.nn.softmax(logits, axis=1)\n",
        "          pred = tf.argmax(prob, axis=1)\n",
        "          pred = tf.cast(pred, dtype=tf.int32)\n",
        "\n",
        "          correct = tf.cast(tf.equal(pred, y), dtype=tf.int32)\n",
        "          correct = tf.reduce_sum(correct)\n",
        "\n",
        "          total_num += x.shape[0]\n",
        "          total_correct += int(correct)\n",
        "\n",
        "    acc = total_correct / total_num\n",
        "    print(\"Accuracy:\", acc)"
      ],
      "execution_count": 12,
      "outputs": [
        {
          "output_type": "stream",
          "text": [
            "Epoch: 0 Step:  0 \n",
            " Loss =  2.302610397338867\n",
            "Epoch: 0 Step:  100 \n",
            " Loss =  0.19899924099445343\n",
            "Accuracy: 0.9667\n",
            "Epoch: 1 Step:  0 \n",
            " Loss =  0.14166443049907684\n",
            "Epoch: 1 Step:  100 \n",
            " Loss =  0.07805325835943222\n",
            "Accuracy: 0.9809\n",
            "Epoch: 2 Step:  0 \n",
            " Loss =  0.0583396814763546\n",
            "Epoch: 2 Step:  100 \n",
            " Loss =  0.03837265074253082\n",
            "Accuracy: 0.9823\n",
            "Epoch: 3 Step:  0 \n",
            " Loss =  0.04659903049468994\n",
            "Epoch: 3 Step:  100 \n",
            " Loss =  0.05061204358935356\n",
            "Accuracy: 0.9831\n",
            "Epoch: 4 Step:  0 \n",
            " Loss =  0.043252669274806976\n",
            "Epoch: 4 Step:  100 \n",
            " Loss =  0.007349352352321148\n",
            "Accuracy: 0.9885\n",
            "Epoch: 5 Step:  0 \n",
            " Loss =  0.026044782251119614\n",
            "Epoch: 5 Step:  100 \n",
            " Loss =  0.008888970129191875\n",
            "Accuracy: 0.9916\n",
            "Epoch: 6 Step:  0 \n",
            " Loss =  0.010374556295573711\n",
            "Epoch: 6 Step:  100 \n",
            " Loss =  0.006592452060431242\n",
            "Accuracy: 0.9933\n",
            "Epoch: 7 Step:  0 \n",
            " Loss =  0.004830255173146725\n",
            "Epoch: 7 Step:  100 \n",
            " Loss =  0.011290918104350567\n",
            "Accuracy: 0.991\n",
            "Epoch: 8 Step:  0 \n",
            " Loss =  0.022299576550722122\n",
            "Epoch: 8 Step:  100 \n",
            " Loss =  0.013678276911377907\n",
            "Accuracy: 0.991\n",
            "Epoch: 9 Step:  0 \n",
            " Loss =  0.018455129116773605\n",
            "Epoch: 9 Step:  100 \n",
            " Loss =  0.010595370084047318\n",
            "Accuracy: 0.9927\n"
          ],
          "name": "stdout"
        }
      ]
    },
    {
      "cell_type": "code",
      "metadata": {
        "id": "0LZxp7dGqcqb",
        "colab_type": "code",
        "colab": {}
      },
      "source": [
        ""
      ],
      "execution_count": 12,
      "outputs": []
    }
  ]
}